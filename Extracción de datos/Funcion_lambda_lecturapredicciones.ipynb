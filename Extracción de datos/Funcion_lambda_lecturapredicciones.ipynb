{
 "cells": [
  {
   "cell_type": "markdown",
   "id": "b4131c1e-9309-4579-913e-a51c0f14ea45",
   "metadata": {},
   "source": [
    "FUNCIÓN LAMBDA PARA LECTURA DIARIA DE LAS PREDICCIONES\n",
    "Este código se pone en AWS_Lambda para \n"
   ]
  },
  {
   "cell_type": "code",
   "execution_count": null,
   "id": "65d725a1-c639-4dfc-8b1f-fc8584912487",
   "metadata": {},
   "outputs": [],
   "source": [
    "\"BUCKET_NAME\"=BUCKET_NAME\n",
    "import boto3\n",
    "import nbformat\n",
    "from nbconvert.preprocessors import ExecutePreprocessor\n",
    "\n",
    "def lambda_handler(event, context):\n",
    "    # Nombre del archivo de tu Jupyter Notebook en S3\n",
    "    nombre_archivo_s3 = \"BUCKET_NAME\"\n",
    "    # Nombre del archivo de salida después de la conversión\n",
    "    nombre_archivo_salida = \"output.py\"\n",
    "    \n",
    "    # Configurar el cliente de S3\n",
    "    s3 = boto3.client('s3')\n",
    "    \n",
    "    # Descargar el archivo del Jupyter Notebook desde S3\n",
    "    with open('/tmp/notebook.ipynb', 'wb') as data:\n",
    "        s3.download_fileobj('BUCKET_NAME', nombre_archivo_s3, data)\n",
    "        \n",
    "    \n",
    "    # Leer el contenido del archivo del Jupyter Notebook\n",
    "    with open('/tmp/notebook.ipynb', 'r') as f:\n",
    "        nb = nbformat.read(f, as_version=4)\n",
    "    \n",
    "    # Crear un ejecutor preprocesador\n",
    "    preprocessor = ExecutePreprocessor(timeout=600, kernel_name='python3')\n",
    "    \n",
    "    # Ejecutar el archivo del Jupyter Notebook\n",
    "    try:\n",
    "        preprocessor.preprocess(nb, {'metadata': {'path': '/tmp/'}})\n",
    "    except Exception as e:\n",
    "        print(e)\n",
    "    \n",
    "    # Guardar el resultado de la ejecución en un archivo Python\n",
    "    with open(f'/tmp/{nombre_archivo_salida}', 'w', encoding='utf-8') as f:\n",
    "        nbformat.write(nb, f)\n",
    "    \n",
    "    # Subir el archivo resultante a S3\n",
    "    with open(f'/tmp/{nombre_archivo_salida}', 'rb') as data:\n",
    "        s3.upload_fileobj(data, 'tfmalicante', nombre_archivo_salida)\n",
    "    \n",
    "    return {\n",
    "        'statusCode': 200,\n",
    "        'body': 'Proceso completado exitosamente.'\n",
    "    }"
   ]
  }
 ],
 "metadata": {
  "kernelspec": {
   "display_name": "Python 3 (ipykernel)",
   "language": "python",
   "name": "python3"
  },
  "language_info": {
   "codemirror_mode": {
    "name": "ipython",
    "version": 3
   },
   "file_extension": ".py",
   "mimetype": "text/x-python",
   "name": "python",
   "nbconvert_exporter": "python",
   "pygments_lexer": "ipython3",
   "version": "3.11.2"
  }
 },
 "nbformat": 4,
 "nbformat_minor": 5
}
