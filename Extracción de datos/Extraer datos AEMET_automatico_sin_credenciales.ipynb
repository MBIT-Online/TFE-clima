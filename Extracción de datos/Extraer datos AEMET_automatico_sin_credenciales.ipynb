{
 "cells": [
  {
   "cell_type": "markdown",
   "id": "93857d4d-f644-45f6-b8c6-18d809757e68",
   "metadata": {
    "tags": []
   },
   "source": [
    "EXTRACCIÓN DATOS DE ESTACIONES METEOROLÓGICAS AEMET DE COMUNIDAD VALENCIANA\n",
    "Con este script vamos a extraer datos históricos de estaciones meteorológicas reales de la comunidad valenciana.\n",
    "Vamos a utilizar la api de AEMET que se encuentra en la URL: https://opendata.aemet.es/dist/index.html?"
   ]
  },
  {
   "cell_type": "code",
   "execution_count": null,
   "id": "ec3e4267-7e46-4694-8cd4-910563c61548",
   "metadata": {},
   "outputs": [],
   "source": []
  },
  {
   "cell_type": "markdown",
   "id": "c68464ba-9c97-448c-9f19-fade2ea7a5d0",
   "metadata": {},
   "source": [
    "CREDENCIALES\n",
    "en AWS tendremos las credenciales de AWS\n",
    "#export AWS_ACCESS_KEY_ID=aws_access_key_id\n",
    "#export AWS_SECRET_ACCESS_KEY=aws_secret_access_key\n",
    "#export AWS_SESSION_TOKEN=aws_session_tokeN\n",
    "##nombre del Bucket S3\n",
    "#export BUCKET_NAME = BUCKET_NAME\n",
    "##Api_Key de la api\n",
    "#export api_key = api_key"
   ]
  },
  {
   "cell_type": "code",
   "execution_count": null,
   "id": "2e6e7a68-7bf1-4333-8c23-4e68fac457b9",
   "metadata": {},
   "outputs": [],
   "source": [
    "#Para leer las credenciales \n",
    "import os\n",
    "import boto3\n",
    "\n",
    "# Obtenemos las credenciales de las variables de entorno\n",
    "aws_access_key_id = os.environ.get('AWS_ACCESS_KEY_ID')\n",
    "aws_secret_access_key = os.environ.get('AWS_SECRET_ACCESS_KEY')\n",
    "aws_session_token = os.environ.get('AWS_SESSION_TOKEN')\n",
    "#Lectura del bucket de S3\n",
    "BUCKET_NAME = os.environ.get('BUCKET_NAME')\n",
    "# Obtenemos las API keys de las variables de entorno\n",
    "api_key = os.environ.get('api_key')"
   ]
  },
  {
   "cell_type": "code",
   "execution_count": 37,
   "id": "7c518665-2ce6-49dc-a276-3b6838e24dc9",
   "metadata": {},
   "outputs": [],
   "source": [
    "import requests #para trabajar con APIs\n",
    "import pandas as pd #para el tratamiento de datos con pandas\n",
    "import json #para trabajar con ficheros json\n",
    "import boto3 #para interactuar con AWS (concretamente con S3)\n",
    "import csv #para importar el csv de las estaciones"
   ]
  },
  {
   "cell_type": "code",
   "execution_count": 38,
   "id": "48016c2b-c5aa-4aa8-a305-0c9b381b73dc",
   "metadata": {},
   "outputs": [],
   "source": [
    "#Trabajo con fechas\n",
    "from dateutil.parser import parse #para convertir texto en fechas\n",
    "from datetime import timedelta #para poder operar con fechas"
   ]
  },
  {
   "cell_type": "code",
   "execution_count": 14,
   "id": "e4698185-020a-4543-bdff-d202c076742e",
   "metadata": {
    "tags": []
   },
   "outputs": [],
   "source": [
    "#Lectura de credenciales para s3\n",
    "s3 = boto3.client(\n",
    " 's3',\n",
    " aws_access_key_id=aws_access_key_id,\n",
    " aws_secret_access_key=aws_secret_access_key,\n",
    " aws_session_token=aws_session_token\n",
    ")"
   ]
  },
  {
   "cell_type": "code",
   "execution_count": 40,
   "id": "358d41a4-f1da-4f68-a7a0-06d72eb534ba",
   "metadata": {},
   "outputs": [],
   "source": [
    "#headers para la API de Aemet\n",
    "headers = {\n",
    "    'accept': 'application/json',\n",
    "    'api_key': api_key}"
   ]
  },
  {
   "cell_type": "markdown",
   "id": "b080273a-b258-4659-a05a-ba8e3b1c5bbf",
   "metadata": {},
   "source": [
    "Cada estación tiene una fecha de comienzo diferente, \n",
    "por eso tenemos que indicar la fecha de comienzo para cada estación\n",
    "Cada ciudad tiene una estación meteorológica con un id (idema)\n",
    "Para ello creamos un fichero csv con el nombre de las ciudades, su id, y sus fechas de inicio\n",
    "\"parametros_todas_estaciones.csv\"\n",
    "Para poder leer todas, tenemos que crear un bucle de lectura de esos parametros y guardarlos en una lista"
   ]
  },
  {
   "cell_type": "code",
   "execution_count": 41,
   "id": "2c3923a9-bef4-40a7-afb9-9d20d8c951ad",
   "metadata": {
    "tags": []
   },
   "outputs": [],
   "source": [
    "#creación de la lista con los parametros de ciudades, idema y fechas\n",
    "parametros = []\n",
    "\n",
    "#Bucle para la lectura de todas las estaciones de la Comunidad valenciana\n",
    "# Abrir el archivo CSV\n",
    "with open('parametros_todas_estaciones.csv', newline='') as csvfile:\n",
    "    # Crear un lector de CSV con delimitador de tabulación\n",
    "    lector_csv = csv.reader(csvfile)\n",
    "    # Saltar la primera fila si contiene encabezados\n",
    "    next(lector_csv)\n",
    "    # Leer cada fila del archivo CSV\n",
    "    for fila in lector_csv:\n",
    "        # Agregar los parámetros a la lista\n",
    "        parametros.append(fila)"
   ]
  },
  {
   "cell_type": "markdown",
   "id": "4f289473-9586-495d-800f-bc26e6cfa161",
   "metadata": {},
   "source": [
    "La Api solo permite coger datos de 5 años. \n",
    "Para conseguir todo el histórico tenemos que ir incrementando la fecha\n",
    "Para no descuadrar fechas debido a los años bisiestos, cogemos datos cada 4 años"
   ]
  },
  {
   "cell_type": "markdown",
   "id": "5c635ded-aaee-4efb-8d00-132ebffcf24c",
   "metadata": {},
   "source": [
    "Tendremos por tanto un bucle donde se irán descargando los datos de la API cada 4 años\n",
    "Se leen los datos en json y los vamos convirtiendo en ficheros parquet que se almacenan en s3"
   ]
  },
  {
   "cell_type": "code",
   "execution_count": null,
   "id": "38e66b6f-8e0c-4383-afb2-8988b101ded8",
   "metadata": {},
   "outputs": [],
   "source": [
    "# Iterar sobre la lista de parámetros\n",
    "for ciudad, idema, fechaIniStr, fechaFinStr in parametros:\n",
    "    # Convertir las cadenas de fecha a objetos datetime\n",
    "    fechaInit = parse(fechaIniStr.replace('%3A', ':'))\n",
    "    fechaFint = parse(fechaFinStr.replace('%3A', ':'))\n",
    "    # Este es el bucle para sumar 4 años a cada fecha\n",
    "    i=0\n",
    "    fechaFin= '2023-12-31T23:59:59UTC'\n",
    "    while fechaFin<= '2023-12-31T23:59:59UTC':\n",
    "        #Ciclos de 4 años\n",
    "        fechaInit += timedelta(days=365*3+366)\n",
    "        fechaIni = fechaInit.strftime('%Y-%m-%dT%H:%M:%S%Z')\n",
    "        fechaFint += timedelta(days=365*3+366)\n",
    "        fechaFin =fechaFint.strftime('%Y-%m-%dT%H:%M:%S%Z')\n",
    "        \n",
    "        #lectura de la API de AEMET\n",
    "        url = \"https://opendata.aemet.es/opendata/api/valores/climatologicos/diarios/datos/fechaini/{}/fechafin/{}/estacion/{}\".format(fechaIni, fechaFin, idema)\n",
    "        res = requests.get(url, headers=headers)\n",
    "\n",
    "        #los datos están en una nueva url, así que hay que hacer una segunda lectura\n",
    "        res_json = res.json()\n",
    "        url_2 =res_json[\"datos\"] \n",
    "        res = requests.get(url_2, headers=headers) #lectura de los datos de la segunda url\n",
    "\n",
    "        #conversión de los datos en dataframe\n",
    "        res_json = res.json()\n",
    "        datos_json_str = json.dumps(res_json) #convierte los datos en json\n",
    "        df = pd.read_json(datos_json_str) #convierte los datos en dataframe\n",
    "\n",
    "        #conversión de datos en csv y parquet\n",
    "        #df.to_csv(f'df_{ciudad}{i+1}.csv') #convierte el datframe en csv para comprobaciones\n",
    "        df.to_parquet(f'df_{ciudad}{i+1}.parquet') #convierte el dataframe en parquet\n",
    "\n",
    "        #Almacenamos los datos en el bucket de S3\n",
    "        #s3.upload_file(f'df_{i+1}.parquet', BUCKET_NAME, f'rawalicante/df_{i+1}.parquet')\n",
    "        i += 1\n",
    "    "
   ]
  }
 ],
 "metadata": {
  "kernelspec": {
   "display_name": "Python 3 (ipykernel)",
   "language": "python",
   "name": "python3"
  },
  "language_info": {
   "codemirror_mode": {
    "name": "ipython",
    "version": 3
   },
   "file_extension": ".py",
   "mimetype": "text/x-python",
   "name": "python",
   "nbconvert_exporter": "python",
   "pygments_lexer": "ipython3",
   "version": "3.11.2"
  }
 },
 "nbformat": 4,
 "nbformat_minor": 5
}
