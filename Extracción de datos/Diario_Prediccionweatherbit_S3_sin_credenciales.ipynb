{
 "cells": [
  {
   "cell_type": "code",
   "execution_count": null,
   "id": "fd734d1c-c13d-4354-b235-569904843e2a",
   "metadata": {},
   "outputs": [],
   "source": [
    "LECTURA DE PREDICCIONES DE LA APLICACION WEATHERBIT CON SU API\n",
    "La api de la aplicación se puede leer con una api_key = key\n",
    "Las lecturas que vamos a hacer son las predicciones a 15 días en la url \"http://api.weatherbit.io/v2.0/forecast/daily\""
   ]
  },
  {
   "cell_type": "markdown",
   "id": "32c99aef-570e-4c81-8554-fa86dcf795d7",
   "metadata": {},
   "source": [
    "## CREDENCIALES\n",
    "en AWS tendremos las credenciales de AWS\n",
    "#export AWS_ACCESS_KEY_ID=aws_access_key_id\n",
    "#export AWS_SECRET_ACCESS_KEY=aws_secret_access_key\n",
    "#export AWS_SESSION_TOKEN=aws_session_tokeN\n",
    "##nombre del Bucket S3\n",
    "#export BUCKET_NAME = BUCKET_NAME\n",
    "##Api_Key de la app de Weatherbit\n",
    "#export key = key\n"
   ]
  },
  {
   "cell_type": "code",
   "execution_count": 9,
   "id": "39b4ce75-c5e8-4623-a147-27a1aa0605f6",
   "metadata": {
    "tags": []
   },
   "outputs": [],
   "source": [
    "#Para leer las credenciales \n",
    "import os\n",
    "import boto3\n",
    "\n",
    "# Obtenemos las credenciales de las variables de entorno\n",
    "aws_access_key_id = os.environ.get('AWS_ACCESS_KEY_ID')\n",
    "aws_secret_access_key = os.environ.get('AWS_SECRET_ACCESS_KEY')\n",
    "aws_session_token = os.environ.get('AWS_SESSION_TOKEN')\n",
    "#Lectura del bucket de S3\n",
    "BUCKET_NAME = os.environ.get('BUCKET_NAME')\n",
    "# Obtenemos las API keys de las variables de entorno\n",
    "key = os.environ.get('key')\n"
   ]
  },
  {
   "cell_type": "code",
   "execution_count": 10,
   "id": "1e4e7547-37f3-441f-ada2-a5b44836e4b0",
   "metadata": {
    "tags": []
   },
   "outputs": [],
   "source": [
    "import requests #para trabajar con APIs\n",
    "import pandas as pd #para el tratamiento de datos con pandas\n",
    "import json #para trabajar con ficheros json\n",
    "import boto3 #para interactuar con AWS (concretamente con S3)\n",
    "import csv #para importar el csv de las estaciones"
   ]
  },
  {
   "cell_type": "code",
   "execution_count": 11,
   "id": "baf02cdf-e1bc-40d6-9061-62dcf2b72479",
   "metadata": {
    "tags": []
   },
   "outputs": [],
   "source": [
    "#Lectura de credenciales para s3\n",
    "s3 = boto3.client(\n",
    " 's3',\n",
    " aws_access_key_id=aws_access_key_id,\n",
    " aws_secret_access_key=aws_secret_access_key,\n",
    " aws_session_token=aws_session_token\n",
    ")"
   ]
  },
  {
   "cell_type": "markdown",
   "id": "0d090baf-0ee5-42c7-89de-d194e0f445c8",
   "metadata": {},
   "source": [
    "Para las lecturas de la aplicación hay que indicar la latitud y la longitud de la localización.\n",
    "Para ello hemos creado unos ficheros csv con las coordenadas de longituc (\"lon_city.csv\") y latitud (\"lat_city.csv\")"
   ]
  },
  {
   "cell_type": "code",
   "execution_count": 12,
   "id": "882a65be-aeee-4dce-8ed8-aa312a6b378c",
   "metadata": {
    "tags": []
   },
   "outputs": [],
   "source": [
    "#url de Weatherbit\n",
    "url = \"http://api.weatherbit.io/v2.0/forecast/daily\"\n",
    "#lectura de longitudes\n",
    "estaciones_lon = pd.read_csv('lon_city.csv') \n",
    "# lectura de latitudes\n",
    "estaciones_lat = pd.read_csv('lat_city.csv')\n",
    "# Incluimos los datos que leemos en una lista\n",
    "lon = estaciones_lon['lon'].tolist()\n",
    "lat = estaciones_lat['lat'].tolist()"
   ]
  },
  {
   "cell_type": "code",
   "execution_count": 13,
   "id": "5e39bcf4-8e15-434b-aa7e-90daa174404f",
   "metadata": {
    "tags": []
   },
   "outputs": [],
   "source": [
    "#Para leer la fecha de hoy y añadirla al fichero y al nombre del fichero\n",
    "from datetime import datetime\n",
    "fecha_hoy = datetime.now()\n",
    "fecha_today = fecha_hoy.strftime(\"%Y_%m_%d\")"
   ]
  },
  {
   "cell_type": "markdown",
   "id": "3c337083-6ec0-4ae1-9d2b-cb5e6b1bd50e",
   "metadata": {},
   "source": [
    "Hacemos un bucle para ir recorriendo todas las ciudades de la lista, que identificamos con los parámetros de longitud y latitud, que ya se encuentran en dos listas llamadas \"lon\" y \"lat\""
   ]
  },
  {
   "cell_type": "code",
   "execution_count": 15,
   "id": "d2354dca-0f25-445a-b154-ede6a2244f1b",
   "metadata": {
    "tags": []
   },
   "outputs": [
    {
     "name": "stdout",
     "output_type": "stream",
     "text": [
      "loni: 0.16667 - lati: 38.783329 -city_name: Javea\n",
      "loni: -0.48149 - lati: 38.345169 -city_name: Alicante\n",
      "loni: -1.04024 - lati: 38.4123 -city_name: Pinoso\n",
      "loni: -0.70107 - lati: 38.26218 -city_name: Elche\n",
      "loni: -0.11935 - lati: 38.919708 -city_name: Oliva\n",
      "loni: -0.37334 - lati: 39.192478 -city_name: Polinyà de Xúquer\n",
      "loni: -1.2 - lati: 39.566669 -city_name: Utiel\n",
      "loni: -0.46349 - lati: 39.49139 -city_name: Manises\n",
      "loni: -0.37739 - lati: 39.469749 -city_name: Valencia\n",
      "loni: -0.51667 - lati: 38.98333 -city_name: Xàtiva\n",
      "loni: -0.03333 - lati: 39.98333 -city_name: Castelló de la Plana\n",
      "loni: -0.19133 - lati: 40.502079 -city_name: Castellfort\n",
      "loni: -0.25774 - lati: 40.428848 -city_name: Villafranca del Cid\n",
      "loni: 0.47559 - lati: 40.470329 -city_name: Vinaròs\n"
     ]
    }
   ],
   "source": [
    "# Bucle para ir leyendo las diferentes previsiones de ciudades con lat y lon\n",
    "for loni, lati in zip(lon, lat):\n",
    "    params = {\n",
    "        'accept': 'application/json',\n",
    "        'key':key,\n",
    "        'lat':lati,\n",
    "        'lon':loni,\n",
    "    }\n",
    "    # lectura de la API con la función request\n",
    "    res = requests.get(url, params=params)\n",
    "    res_json = res.json()\n",
    "    \n",
    "    #Transformación de json a pandas\n",
    "    df = pd.json_normalize(res_json['data'])\n",
    "    # leemos el nombre de la ciudad correspondiente\n",
    "    city_name = (res_json['city_name'])\n",
    "    # Verificación de las lecturas\n",
    "    print(\"loni:\", loni, \"- lati:\", lati, \"-city_name:\", city_name) \n",
    "    \n",
    "    # Incluimos una columna con el nombre de la ciudad en el dataframe\n",
    "    df['city_name'] = city_name\n",
    "    # Incluimos una columna con la fecha de lectura\n",
    "    df['fecha_today'] = fecha_today\n",
    "    # convertimos el dataframe en parquet\n",
    "    df.to_parquet(f'df_{fecha_today}_{city_name}.parquet')\n",
    "    \n",
    "    #Almacenamos los datos en el bucket de S3 con su nombre de fecha y ciudad\n",
    "    s3.upload_file(f'df_{fecha_today}_{city_name}.parquet', BUCKET_NAME, f'predicciones/df_{fecha_today}_{city_name}.parquet')\n"
   ]
  },
  {
   "cell_type": "code",
   "execution_count": null,
   "id": "a01f3ed1-d523-4ade-82b9-c7296c30a046",
   "metadata": {},
   "outputs": [],
   "source": []
  },
  {
   "cell_type": "code",
   "execution_count": null,
   "id": "99aefcdb-40be-4109-a80c-8848ebc5ce4f",
   "metadata": {},
   "outputs": [],
   "source": []
  },
  {
   "cell_type": "code",
   "execution_count": null,
   "id": "2b0e1232-23ab-4ba1-b6a7-40c24781b32f",
   "metadata": {},
   "outputs": [],
   "source": []
  },
  {
   "cell_type": "code",
   "execution_count": null,
   "id": "5a831c3f-2fab-4b73-b708-a07489cbee7d",
   "metadata": {},
   "outputs": [],
   "source": []
  },
  {
   "cell_type": "code",
   "execution_count": null,
   "id": "86b0fcd1-ca9c-469c-bf48-9b6fb627a733",
   "metadata": {},
   "outputs": [],
   "source": []
  },
  {
   "cell_type": "code",
   "execution_count": null,
   "id": "900e8470-5f25-41a9-91f9-bd63c24fd8aa",
   "metadata": {},
   "outputs": [],
   "source": []
  }
 ],
 "metadata": {
  "kernelspec": {
   "display_name": "Python 3 (ipykernel)",
   "language": "python",
   "name": "python3"
  },
  "language_info": {
   "codemirror_mode": {
    "name": "ipython",
    "version": 3
   },
   "file_extension": ".py",
   "mimetype": "text/x-python",
   "name": "python",
   "nbconvert_exporter": "python",
   "pygments_lexer": "ipython3",
   "version": "3.11.2"
  }
 },
 "nbformat": 4,
 "nbformat_minor": 5
}
