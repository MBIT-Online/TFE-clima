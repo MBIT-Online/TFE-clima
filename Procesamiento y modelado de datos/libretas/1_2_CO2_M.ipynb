{
 "cells": [
  {
   "cell_type": "code",
   "execution_count": 24,
   "id": "96f33c51-1f55-4494-94ac-b6e31d58e6ef",
   "metadata": {},
   "outputs": [],
   "source": [
    "import pandas as pd\n",
    "import numpy as np\n",
    "import matplotlib.pyplot as plt"
   ]
  },
  {
   "cell_type": "code",
   "execution_count": 25,
   "id": "754239b1-fc47-48ba-ac48-32589c3b87b7",
   "metadata": {},
   "outputs": [],
   "source": [
    "df = pd.read_csv('co2.csv')"
   ]
  },
  {
   "cell_type": "code",
   "execution_count": 41,
   "id": "8464a72c-04c0-4639-8a4f-12e8c3532669",
   "metadata": {},
   "outputs": [
    {
     "data": {
      "text/html": [
       "<div>\n",
       "<style scoped>\n",
       "    .dataframe tbody tr th:only-of-type {\n",
       "        vertical-align: middle;\n",
       "    }\n",
       "\n",
       "    .dataframe tbody tr th {\n",
       "        vertical-align: top;\n",
       "    }\n",
       "\n",
       "    .dataframe thead th {\n",
       "        text-align: right;\n",
       "    }\n",
       "</style>\n",
       "<table border=\"1\" class=\"dataframe\">\n",
       "  <thead>\n",
       "    <tr style=\"text-align: right;\">\n",
       "      <th></th>\n",
       "      <th>co2</th>\n",
       "    </tr>\n",
       "    <tr>\n",
       "      <th>fecha</th>\n",
       "      <th></th>\n",
       "    </tr>\n",
       "  </thead>\n",
       "  <tbody>\n",
       "    <tr>\n",
       "      <th>1958-01-01</th>\n",
       "      <td>316.16</td>\n",
       "    </tr>\n",
       "    <tr>\n",
       "      <th>1958-01-02</th>\n",
       "      <td>316.16</td>\n",
       "    </tr>\n",
       "    <tr>\n",
       "      <th>1958-01-03</th>\n",
       "      <td>316.16</td>\n",
       "    </tr>\n",
       "    <tr>\n",
       "      <th>1958-01-04</th>\n",
       "      <td>316.16</td>\n",
       "    </tr>\n",
       "    <tr>\n",
       "      <th>1958-01-05</th>\n",
       "      <td>316.16</td>\n",
       "    </tr>\n",
       "    <tr>\n",
       "      <th>1958-01-06</th>\n",
       "      <td>316.16</td>\n",
       "    </tr>\n",
       "    <tr>\n",
       "      <th>1958-01-07</th>\n",
       "      <td>316.16</td>\n",
       "    </tr>\n",
       "    <tr>\n",
       "      <th>1958-01-08</th>\n",
       "      <td>316.16</td>\n",
       "    </tr>\n",
       "    <tr>\n",
       "      <th>1958-01-09</th>\n",
       "      <td>316.16</td>\n",
       "    </tr>\n",
       "    <tr>\n",
       "      <th>1958-01-10</th>\n",
       "      <td>316.16</td>\n",
       "    </tr>\n",
       "  </tbody>\n",
       "</table>\n",
       "</div>"
      ],
      "text/plain": [
       "               co2\n",
       "fecha             \n",
       "1958-01-01  316.16\n",
       "1958-01-02  316.16\n",
       "1958-01-03  316.16\n",
       "1958-01-04  316.16\n",
       "1958-01-05  316.16\n",
       "1958-01-06  316.16\n",
       "1958-01-07  316.16\n",
       "1958-01-08  316.16\n",
       "1958-01-09  316.16\n",
       "1958-01-10  316.16"
      ]
     },
     "execution_count": 41,
     "metadata": {},
     "output_type": "execute_result"
    }
   ],
   "source": [
    "df.head(10)"
   ]
  },
  {
   "cell_type": "code",
   "execution_count": 27,
   "id": "b1882f95-4c87-4f81-8a53-fff11acd909b",
   "metadata": {},
   "outputs": [],
   "source": [
    "df.rename(columns={'Yr': 'year', 'Mn': 'month', 'Dy': 'day'}, inplace=True)\n",
    "df['fecha'] = pd.to_datetime(df[['year', 'month', 'day']])\n",
    "df = df.set_index('fecha', drop=True)"
   ]
  },
  {
   "cell_type": "code",
   "execution_count": 28,
   "id": "82786b1f-1685-4ed5-b111-efbb1df88530",
   "metadata": {},
   "outputs": [],
   "source": [
    "df = df.drop(columns=['NB', 'scale', 'sta', 'year', 'month', 'day'])\n",
    "df.columns = df.columns.str.lower()"
   ]
  },
  {
   "cell_type": "code",
   "execution_count": 29,
   "id": "5adcce3f-62e9-459f-8645-43356677bcc3",
   "metadata": {},
   "outputs": [],
   "source": [
    "# Para garantizar la consistencia y la compatibilidad entre Pandas y NumPy transformamos los valores 'None' en 'NaN'\n",
    "df['co2'] = df['co2'].replace('NaN', np.nan)\n",
    "\n",
    "# Pasar las columnas 'float_columns' al tipo 'float'\n",
    "df['co2'] = df['co2'].astype(float)"
   ]
  },
  {
   "cell_type": "code",
   "execution_count": 30,
   "id": "f0ab13b3-09da-4452-b408-5d27c662442c",
   "metadata": {},
   "outputs": [
    {
     "data": {
      "text/html": [
       "<div>\n",
       "<style scoped>\n",
       "    .dataframe tbody tr th:only-of-type {\n",
       "        vertical-align: middle;\n",
       "    }\n",
       "\n",
       "    .dataframe tbody tr th {\n",
       "        vertical-align: top;\n",
       "    }\n",
       "\n",
       "    .dataframe thead th {\n",
       "        text-align: right;\n",
       "    }\n",
       "</style>\n",
       "<table border=\"1\" class=\"dataframe\">\n",
       "  <thead>\n",
       "    <tr style=\"text-align: right;\">\n",
       "      <th></th>\n",
       "      <th>co2</th>\n",
       "    </tr>\n",
       "    <tr>\n",
       "      <th>fecha</th>\n",
       "      <th></th>\n",
       "    </tr>\n",
       "  </thead>\n",
       "  <tbody>\n",
       "    <tr>\n",
       "      <th>1958-01-01</th>\n",
       "      <td>NaN</td>\n",
       "    </tr>\n",
       "    <tr>\n",
       "      <th>1958-01-02</th>\n",
       "      <td>NaN</td>\n",
       "    </tr>\n",
       "    <tr>\n",
       "      <th>1958-01-03</th>\n",
       "      <td>NaN</td>\n",
       "    </tr>\n",
       "    <tr>\n",
       "      <th>1958-01-04</th>\n",
       "      <td>NaN</td>\n",
       "    </tr>\n",
       "    <tr>\n",
       "      <th>1958-01-05</th>\n",
       "      <td>NaN</td>\n",
       "    </tr>\n",
       "  </tbody>\n",
       "</table>\n",
       "</div>"
      ],
      "text/plain": [
       "            co2\n",
       "fecha          \n",
       "1958-01-01  NaN\n",
       "1958-01-02  NaN\n",
       "1958-01-03  NaN\n",
       "1958-01-04  NaN\n",
       "1958-01-05  NaN"
      ]
     },
     "execution_count": 30,
     "metadata": {},
     "output_type": "execute_result"
    }
   ],
   "source": [
    "df.head()"
   ]
  },
  {
   "cell_type": "code",
   "execution_count": 31,
   "id": "a6932b79-bca1-4f74-a2e6-d4418902555c",
   "metadata": {},
   "outputs": [
    {
     "data": {
      "text/plain": [
       "co2    6297\n",
       "dtype: int64"
      ]
     },
     "execution_count": 31,
     "metadata": {},
     "output_type": "execute_result"
    }
   ],
   "source": [
    "df.isnull().sum()"
   ]
  },
  {
   "cell_type": "code",
   "execution_count": 32,
   "id": "0ad9d0b6-e05d-4910-a2b3-78bb7e822201",
   "metadata": {},
   "outputs": [],
   "source": [
    "# df.loc[(df['fecha']>'2005-10-01') & (df['fecha']<'2005-11-15')]"
   ]
  },
  {
   "cell_type": "code",
   "execution_count": 33,
   "id": "c54756d7-94a0-4786-964e-0d0b2a4ec0a6",
   "metadata": {},
   "outputs": [
    {
     "data": {
      "image/png": "[encoded data removed]",
      "text/plain": [
       "<Figure size 2000x400 with 1 Axes>"
      ]
     },
     "metadata": {},
     "output_type": "display_data"
    }
   ],
   "source": [
    "df.plot(figsize=(20, 4))\n",
    "plt.grid()"
   ]
  },
  {
   "cell_type": "code",
   "execution_count": 34,
   "id": "5475ff89-ad8a-4e15-8652-c7039ad2b7b3",
   "metadata": {},
   "outputs": [
    {
     "data": {
      "text/html": [
       "<div>\n",
       "<style scoped>\n",
       "    .dataframe tbody tr th:only-of-type {\n",
       "        vertical-align: middle;\n",
       "    }\n",
       "\n",
       "    .dataframe tbody tr th {\n",
       "        vertical-align: top;\n",
       "    }\n",
       "\n",
       "    .dataframe thead th {\n",
       "        text-align: right;\n",
       "    }\n",
       "</style>\n",
       "<table border=\"1\" class=\"dataframe\">\n",
       "  <thead>\n",
       "    <tr style=\"text-align: right;\">\n",
       "      <th></th>\n",
       "      <th>co2</th>\n",
       "    </tr>\n",
       "    <tr>\n",
       "      <th>fecha</th>\n",
       "      <th></th>\n",
       "    </tr>\n",
       "  </thead>\n",
       "  <tbody>\n",
       "    <tr>\n",
       "      <th>2006-10-16</th>\n",
       "      <td>379.04</td>\n",
       "    </tr>\n",
       "    <tr>\n",
       "      <th>1989-04-11</th>\n",
       "      <td>355.33</td>\n",
       "    </tr>\n",
       "    <tr>\n",
       "      <th>1958-07-12</th>\n",
       "      <td>NaN</td>\n",
       "    </tr>\n",
       "    <tr>\n",
       "      <th>1975-04-20</th>\n",
       "      <td>333.24</td>\n",
       "    </tr>\n",
       "    <tr>\n",
       "      <th>1985-06-15</th>\n",
       "      <td>NaN</td>\n",
       "    </tr>\n",
       "    <tr>\n",
       "      <th>1959-04-01</th>\n",
       "      <td>316.50</td>\n",
       "    </tr>\n",
       "    <tr>\n",
       "      <th>1994-05-10</th>\n",
       "      <td>NaN</td>\n",
       "    </tr>\n",
       "    <tr>\n",
       "      <th>1964-09-01</th>\n",
       "      <td>317.92</td>\n",
       "    </tr>\n",
       "    <tr>\n",
       "      <th>1990-07-11</th>\n",
       "      <td>355.24</td>\n",
       "    </tr>\n",
       "    <tr>\n",
       "      <th>1992-05-05</th>\n",
       "      <td>359.71</td>\n",
       "    </tr>\n",
       "  </tbody>\n",
       "</table>\n",
       "</div>"
      ],
      "text/plain": [
       "               co2\n",
       "fecha             \n",
       "2006-10-16  379.04\n",
       "1989-04-11  355.33\n",
       "1958-07-12     NaN\n",
       "1975-04-20  333.24\n",
       "1985-06-15     NaN\n",
       "1959-04-01  316.50\n",
       "1994-05-10     NaN\n",
       "1964-09-01  317.92\n",
       "1990-07-11  355.24\n",
       "1992-05-05  359.71"
      ]
     },
     "execution_count": 34,
     "metadata": {},
     "output_type": "execute_result"
    }
   ],
   "source": [
    "df.sample(10)"
   ]
  },
  {
   "cell_type": "markdown",
   "id": "8b00c038-aa2a-4b93-bc04-b25469fecfb6",
   "metadata": {},
   "source": [
    "Rellenaremos los datos con los valores inmediatamente posterior"
   ]
  },
  {
   "cell_type": "code",
   "execution_count": 35,
   "id": "fab392bf-7145-4d6a-b312-9e117f39d99f",
   "metadata": {},
   "outputs": [],
   "source": [
    "df = df.bfill()"
   ]
  },
  {
   "cell_type": "code",
   "execution_count": 36,
   "id": "0e9efe6f-4145-4deb-8cc5-1cd950a43d23",
   "metadata": {},
   "outputs": [
    {
     "data": {
      "text/plain": [
       "co2    21\n",
       "dtype: int64"
      ]
     },
     "execution_count": 36,
     "metadata": {},
     "output_type": "execute_result"
    }
   ],
   "source": [
    "df.isnull().sum()"
   ]
  },
  {
   "cell_type": "markdown",
   "id": "05236e62-6317-47fb-898b-76cde60ab5f3",
   "metadata": {},
   "source": [
    "Guardamos esta libreta en formato csv para su tratamiento como fichero en otras libretas"
   ]
  },
  {
   "cell_type": "code",
   "execution_count": 37,
   "id": "19ed5d64-0ab8-43b5-a43b-0bcb64ae007f",
   "metadata": {},
   "outputs": [],
   "source": [
    "alicante_co2 = df.loc[(df.index >= '1964-01-02') & (df.index <= '2023-12-31')]"
   ]
  },
  {
   "cell_type": "code",
   "execution_count": 38,
   "id": "402b274d-db5b-45a9-b859-377fd14c7aba",
   "metadata": {},
   "outputs": [],
   "source": [
    "alicante_co2.to_csv('alicante_co2.csv')"
   ]
  },
  {
   "cell_type": "code",
   "execution_count": 39,
   "id": "a9197af9-1a48-4bae-8c76-d1b18916eca9",
   "metadata": {},
   "outputs": [],
   "source": [
    "valencia_co2 = df.loc[(df.index >= '1948-01-01') & (df.index <= '2023-12-31')]"
   ]
  },
  {
   "cell_type": "code",
   "execution_count": 40,
   "id": "50f010a8-7489-4743-a70d-79d82ae81055",
   "metadata": {},
   "outputs": [],
   "source": [
    "valencia_co2.to_csv('valencia_co2.csv')"
   ]
  }
 ],
 "metadata": {
  "kernelspec": {
   "display_name": "Python 3 (ipykernel)",
   "language": "python",
   "name": "python3"
  },
  "language_info": {
   "codemirror_mode": {
    "name": "ipython",
    "version": 3
   },
   "file_extension": ".py",
   "mimetype": "text/x-python",
   "name": "python",
   "nbconvert_exporter": "python",
   "pygments_lexer": "ipython3",
   "version": "3.11.5"
  }
 },
 "nbformat": 4,
 "nbformat_minor": 5
}
