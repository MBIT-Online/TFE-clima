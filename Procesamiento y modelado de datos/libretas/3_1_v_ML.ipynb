{
 "cells": [
  {
   "cell_type": "markdown",
   "id": "887acd99-fb65-432c-8f7f-8ab73f5c4940",
   "metadata": {},
   "source": [
    "# Machine Learning Avanzado\n",
    "\n",
    "## MBIT School"
   ]
  },
  {
   "cell_type": "markdown",
   "id": "9d4e568b-c542-4dc9-96c9-bc1d2330608f",
   "metadata": {},
   "source": [
    "# a) Importamos libreías y datos"
   ]
  },
  {
   "cell_type": "code",
   "execution_count": 1,
   "id": "5934f6e6-fc5a-4220-94f1-992d84fbf3d4",
   "metadata": {},
   "outputs": [],
   "source": [
    "import pandas as pd\n",
    "import numpy as np\n",
    "import matplotlib.pyplot as plt\n",
    "import seaborn as sns "
   ]
  },
  {
   "cell_type": "code",
   "execution_count": 2,
   "id": "47bb7a71-74e0-4b0d-a5ac-1acbbd1ebc90",
   "metadata": {},
   "outputs": [],
   "source": [
    "df = pd.read_csv('valencia_clean.csv')\n",
    "co = pd.read_csv('C:/Users/34610/Desktop/TFM/CO2/valencia_co2.csv')"
   ]
  },
  {
   "cell_type": "markdown",
   "id": "22d7df32-03f8-4df6-b783-92f5c01df721",
   "metadata": {},
   "source": [
    "Visualización de los DataFrames"
   ]
  },
  {
   "cell_type": "code",
   "execution_count": 3,
   "id": "efc5631c-839a-4c14-8e90-5d0569bc3528",
   "metadata": {},
   "outputs": [],
   "source": [
    "# df.head()\n",
    "# df.info()\n",
    "# co.head()\n",
    "# co.info()"
   ]
  },
  {
   "cell_type": "code",
   "execution_count": 4,
   "id": "8e3de4b7-6c67-4f16-9bf9-c6fbe1895901",
   "metadata": {},
   "outputs": [],
   "source": [
    "# Pasamos a formato fecha la columna 'fecha'\n",
    "df['fecha'] = pd.to_datetime(df['fecha'])\n",
    "co['fecha'] = pd.to_datetime(co['fecha'])\n",
    "\n",
    "# Seleccionamos la columna 'fecha' como índice\n",
    "df = df.set_index('fecha', drop = True)\n",
    "co = co.set_index('fecha', drop = True)"
   ]
  },
  {
   "cell_type": "markdown",
   "id": "61d9de37-a714-401b-b277-17044623bd24",
   "metadata": {},
   "source": [
    "Como los datos 'co' comienzan en 1958 pero los datos de 'df' empiezan en 1948 procedemos a eliminar los valores inferiores a 1948 del DataFame de Valencia"
   ]
  },
  {
   "cell_type": "code",
   "execution_count": 5,
   "id": "fae412cb-1b5c-44ac-8d70-bc915e95b31d",
   "metadata": {},
   "outputs": [],
   "source": [
    "# Eliminamos las fechas posteriores a 1958 en 'df'\n",
    "df = df[df.index > '1957-12-31']"
   ]
  },
  {
   "cell_type": "code",
   "execution_count": 6,
   "id": "d4957fb9-34c4-4bbb-aef9-2de783261592",
   "metadata": {},
   "outputs": [],
   "source": [
    "# Unimos la columna 'co2' del DataFrame 'co' a DataFrame 'df'\n",
    "df = df.join(co['co2'])"
   ]
  },
  {
   "cell_type": "markdown",
   "id": "eb06feae-fbd4-42e7-98ed-2b1f978f6e6a",
   "metadata": {},
   "source": [
    "# b) Comprobación manual de las variables"
   ]
  },
  {
   "cell_type": "markdown",
   "id": "eab8c347-641a-480d-970a-58f16b8da5c1",
   "metadata": {},
   "source": [
    "Comprobamos como varía la correlación al cambiar la temporalidad de los datos.\n",
    "\n",
    "El objetivo es la selección de las variables explicativas."
   ]
  },
  {
   "cell_type": "code",
   "execution_count": 7,
   "id": "51a37b81-d917-49e7-b6d1-cde0dbfb1d2e",
   "metadata": {},
   "outputs": [],
   "source": [
    "# Correlación diaria\n",
    "# df.corr()"
   ]
  },
  {
   "cell_type": "code",
   "execution_count": 8,
   "id": "d46c7ea2-d3ab-438d-8266-0d129148164d",
   "metadata": {},
   "outputs": [],
   "source": [
    "# Cambiamos la temporalidad a anual mediante la media por año\n",
    "df = df.resample('A').mean()"
   ]
  },
  {
   "cell_type": "code",
   "execution_count": 9,
   "id": "d68c2334-74d0-4279-b73d-6bba0977a089",
   "metadata": {},
   "outputs": [],
   "source": [
    "# df.shape"
   ]
  },
  {
   "cell_type": "code",
   "execution_count": 10,
   "id": "3bb5df88-aed9-485b-9de6-d7188edfbf76",
   "metadata": {},
   "outputs": [],
   "source": [
    "# Correlación anual\n",
    "# df.corr()"
   ]
  },
  {
   "cell_type": "markdown",
   "id": "a7e0aa06-922e-4023-a274-76379ef00284",
   "metadata": {},
   "source": [
    "Se observa que al cambiar la temporalidad de los datos de 'diarios' a 'anuales' aumenta la correlación entre las variables.\n",
    "\n",
    "Observamos como influye ahora la variable 'co2'"
   ]
  },
  {
   "cell_type": "markdown",
   "id": "1215775b-c545-493c-82ee-776843f4e865",
   "metadata": {},
   "source": [
    "Observemos como varía la influencia de las variables explicativas según la temporalidad sobre la variable objetivo."
   ]
  },
  {
   "cell_type": "markdown",
   "id": "525337ba-84d2-4469-a1ed-b100298c0560",
   "metadata": {},
   "source": [
    "**Random forest para la selección de variables**"
   ]
  },
  {
   "cell_type": "code",
   "execution_count": 11,
   "id": "7a0b0cfd-3971-4d86-9c1c-8e1a2ae45a54",
   "metadata": {},
   "outputs": [],
   "source": [
    "# Importamos librería de RandomForestRegressor\n",
    "from sklearn.ensemble import RandomForestRegressor"
   ]
  },
  {
   "cell_type": "code",
   "execution_count": 12,
   "id": "c5d94d4d-ccab-4025-8949-9eb54705c0b3",
   "metadata": {},
   "outputs": [],
   "source": [
    "# Seleccionamos las variables para temporalidad anual\n",
    "X = df.drop(columns = ['tmed', 'tmax', 'tmin'], axis = 1)\n",
    "y = df['tmed']"
   ]
  },
  {
   "cell_type": "code",
   "execution_count": 13,
   "id": "f1189a01-6569-4036-b607-388b80a5a1f5",
   "metadata": {},
   "outputs": [
    {
     "data": {
      "text/html": [
       "<style>#sk-container-id-1 {color: black;}#sk-container-id-1 pre{padding: 0;}#sk-container-id-1 div.sk-toggleable {background-color: white;}#sk-container-id-1 label.sk-toggleable__label {cursor: pointer;display: block;width: 100%;margin-bottom: 0;padding: 0.3em;box-sizing: border-box;text-align: center;}#sk-container-id-1 label.sk-toggleable__label-arrow:before {content: \"▸\";float: left;margin-right: 0.25em;color: #696969;}#sk-container-id-1 label.sk-toggleable__label-arrow:hover:before {color: black;}#sk-container-id-1 div.sk-estimator:hover label.sk-toggleable__label-arrow:before {color: black;}#sk-container-id-1 div.sk-toggleable__content {max-height: 0;max-width: 0;overflow: hidden;text-align: left;background-color: #f0f8ff;}#sk-container-id-1 div.sk-toggleable__content pre {margin: 0.2em;color: black;border-radius: 0.25em;background-color: #f0f8ff;}#sk-container-id-1 input.sk-toggleable__control:checked~div.sk-toggleable__content {max-height: 200px;max-width: 100%;overflow: auto;}#sk-container-id-1 input.sk-toggleable__control:checked~label.sk-toggleable__label-arrow:before {content: \"▾\";}#sk-container-id-1 div.sk-estimator input.sk-toggleable__control:checked~label.sk-toggleable__label {background-color: #d4ebff;}#sk-container-id-1 div.sk-label input.sk-toggleable__control:checked~label.sk-toggleable__label {background-color: #d4ebff;}#sk-container-id-1 input.sk-hidden--visually {border: 0;clip: rect(1px 1px 1px 1px);clip: rect(1px, 1px, 1px, 1px);height: 1px;margin: -1px;overflow: hidden;padding: 0;position: absolute;width: 1px;}#sk-container-id-1 div.sk-estimator {font-family: monospace;background-color: #f0f8ff;border: 1px dotted black;border-radius: 0.25em;box-sizing: border-box;margin-bottom: 0.5em;}#sk-container-id-1 div.sk-estimator:hover {background-color: #d4ebff;}#sk-container-id-1 div.sk-parallel-item::after {content: \"\";width: 100%;border-bottom: 1px solid gray;flex-grow: 1;}#sk-container-id-1 div.sk-label:hover label.sk-toggleable__label {background-color: #d4ebff;}#sk-container-id-1 div.sk-serial::before {content: \"\";position: absolute;border-left: 1px solid gray;box-sizing: border-box;top: 0;bottom: 0;left: 50%;z-index: 0;}#sk-container-id-1 div.sk-serial {display: flex;flex-direction: column;align-items: center;background-color: white;padding-right: 0.2em;padding-left: 0.2em;position: relative;}#sk-container-id-1 div.sk-item {position: relative;z-index: 1;}#sk-container-id-1 div.sk-parallel {display: flex;align-items: stretch;justify-content: center;background-color: white;position: relative;}#sk-container-id-1 div.sk-item::before, #sk-container-id-1 div.sk-parallel-item::before {content: \"\";position: absolute;border-left: 1px solid gray;box-sizing: border-box;top: 0;bottom: 0;left: 50%;z-index: -1;}#sk-container-id-1 div.sk-parallel-item {display: flex;flex-direction: column;z-index: 1;position: relative;background-color: white;}#sk-container-id-1 div.sk-parallel-item:first-child::after {align-self: flex-end;width: 50%;}#sk-container-id-1 div.sk-parallel-item:last-child::after {align-self: flex-start;width: 50%;}#sk-container-id-1 div.sk-parallel-item:only-child::after {width: 0;}#sk-container-id-1 div.sk-dashed-wrapped {border: 1px dashed gray;margin: 0 0.4em 0.5em 0.4em;box-sizing: border-box;padding-bottom: 0.4em;background-color: white;}#sk-container-id-1 div.sk-label label {font-family: monospace;font-weight: bold;display: inline-block;line-height: 1.2em;}#sk-container-id-1 div.sk-label-container {text-align: center;}#sk-container-id-1 div.sk-container {/* jupyter's `normalize.less` sets `[hidden] { display: none; }` but bootstrap.min.css set `[hidden] { display: none !important; }` so we also need the `!important` here to be able to override the default hidden behavior on the sphinx rendered scikit-learn.org. See: https://github.com/scikit-learn/scikit-learn/issues/21755 */display: inline-block !important;position: relative;}#sk-container-id-1 div.sk-text-repr-fallback {display: none;}</style><div id=\"sk-container-id-1\" class=\"sk-top-container\"><div class=\"sk-text-repr-fallback\"><pre>RandomForestRegressor()</pre><b>In a Jupyter environment, please rerun this cell to show the HTML representation or trust the notebook. <br />On GitHub, the HTML representation is unable to render, please try loading this page with nbviewer.org.</b></div><div class=\"sk-container\" hidden><div class=\"sk-item\"><div class=\"sk-estimator sk-toggleable\"><input class=\"sk-toggleable__control sk-hidden--visually\" id=\"sk-estimator-id-1\" type=\"checkbox\" checked><label for=\"sk-estimator-id-1\" class=\"sk-toggleable__label sk-toggleable__label-arrow\">RandomForestRegressor</label><div class=\"sk-toggleable__content\"><pre>RandomForestRegressor()</pre></div></div></div></div></div>"
      ],
      "text/plain": [
       "RandomForestRegressor()"
      ]
     },
     "execution_count": 13,
     "metadata": {},
     "output_type": "execute_result"
    }
   ],
   "source": [
    "rf = RandomForestRegressor()\n",
    "rf.fit(X, y)"
   ]
  },
  {
   "cell_type": "code",
   "execution_count": 14,
   "id": "ace4fc11-21df-4e82-a224-758c7b06b2ac",
   "metadata": {},
   "outputs": [],
   "source": [
    "importancias = rf.feature_importances_\n",
    "forest_importances = pd.Series(importancias, index=X.columns)"
   ]
  },
  {
   "cell_type": "code",
   "execution_count": 15,
   "id": "9fdf3b96-a3c7-4e6b-993a-2ba2d2c4f816",
   "metadata": {},
   "outputs": [
    {
     "data": {
      "image/png": "[encoded data removed]",
      "text/plain": [
       "<Figure size 800x400 with 1 Axes>"
      ]
     },
     "metadata": {},
     "output_type": "display_data"
    }
   ],
   "source": [
    "forest_importances.plot.bar(figsize=(8, 4)).set_title('Importancia de las variables');"
   ]
  },
  {
   "cell_type": "markdown",
   "id": "62426f98-5d1a-4671-a249-c80c08f1702e",
   "metadata": {},
   "source": [
    "Al tener temporalidad anual la variable más importante para definit 'tmed' 'co2' seguida, aunque muy de lejos, por 'sol'."
   ]
  },
  {
   "cell_type": "markdown",
   "id": "025ff5ff-e20e-43a8-8a4c-af40889ee9a2",
   "metadata": {},
   "source": [
    "División en train y test"
   ]
  },
  {
   "cell_type": "code",
   "execution_count": 16,
   "id": "388ca779-dc8b-4a9e-b6c4-07f7e533466d",
   "metadata": {},
   "outputs": [],
   "source": [
    "# Biblioteca para dividir en trin y test\n",
    "from sklearn.model_selection import train_test_split"
   ]
  },
  {
   "cell_type": "code",
   "execution_count": 17,
   "id": "ad16420d-ba5d-4459-84b4-d4a240129b64",
   "metadata": {},
   "outputs": [
    {
     "name": "stdout",
     "output_type": "stream",
     "text": [
      "Tamaño de los conjuntos de train y test:\n",
      "- Train de X (52, 5)\n",
      "- Test de X (14, 5)\n",
      "- Train de y (52,)\n",
      "- Test de y (14,)\n"
     ]
    }
   ],
   "source": [
    "X_train, X_test, y_train, y_test = train_test_split(X, y, test_size = 0.2 ,random_state = 16)\n",
    "print(f'''Tamaño de los conjuntos de train y test:\n",
    "- Train de X {X_train.shape}\n",
    "- Test de X {X_test.shape}\n",
    "- Train de y {y_train.shape}\n",
    "- Test de y {y_test.shape}''')"
   ]
  },
  {
   "cell_type": "markdown",
   "id": "835112c9-76d8-4c7e-9056-6369af7b54b8",
   "metadata": {},
   "source": [
    "Definimos el modelo y lo entrenamos con las variable 'co2'."
   ]
  },
  {
   "cell_type": "code",
   "execution_count": 18,
   "id": "22fefdc7-5adc-4e15-adaa-269ab23b8632",
   "metadata": {},
   "outputs": [],
   "source": [
    "# Seleccionamos las variables\n",
    "X = df[['co2']]\n",
    "y = df['tmed']"
   ]
  },
  {
   "cell_type": "code",
   "execution_count": 19,
   "id": "0cf72f5a-113e-48e4-b4c1-86e10e5abd38",
   "metadata": {},
   "outputs": [],
   "source": [
    "from sklearn.linear_model import LinearRegression"
   ]
  },
  {
   "cell_type": "code",
   "execution_count": 20,
   "id": "4215df47-dc12-4491-a199-990130ceb4d0",
   "metadata": {},
   "outputs": [
    {
     "data": {
      "text/html": [
       "<style>#sk-container-id-2 {color: black;}#sk-container-id-2 pre{padding: 0;}#sk-container-id-2 div.sk-toggleable {background-color: white;}#sk-container-id-2 label.sk-toggleable__label {cursor: pointer;display: block;width: 100%;margin-bottom: 0;padding: 0.3em;box-sizing: border-box;text-align: center;}#sk-container-id-2 label.sk-toggleable__label-arrow:before {content: \"▸\";float: left;margin-right: 0.25em;color: #696969;}#sk-container-id-2 label.sk-toggleable__label-arrow:hover:before {color: black;}#sk-container-id-2 div.sk-estimator:hover label.sk-toggleable__label-arrow:before {color: black;}#sk-container-id-2 div.sk-toggleable__content {max-height: 0;max-width: 0;overflow: hidden;text-align: left;background-color: #f0f8ff;}#sk-container-id-2 div.sk-toggleable__content pre {margin: 0.2em;color: black;border-radius: 0.25em;background-color: #f0f8ff;}#sk-container-id-2 input.sk-toggleable__control:checked~div.sk-toggleable__content {max-height: 200px;max-width: 100%;overflow: auto;}#sk-container-id-2 input.sk-toggleable__control:checked~label.sk-toggleable__label-arrow:before {content: \"▾\";}#sk-container-id-2 div.sk-estimator input.sk-toggleable__control:checked~label.sk-toggleable__label {background-color: #d4ebff;}#sk-container-id-2 div.sk-label input.sk-toggleable__control:checked~label.sk-toggleable__label {background-color: #d4ebff;}#sk-container-id-2 input.sk-hidden--visually {border: 0;clip: rect(1px 1px 1px 1px);clip: rect(1px, 1px, 1px, 1px);height: 1px;margin: -1px;overflow: hidden;padding: 0;position: absolute;width: 1px;}#sk-container-id-2 div.sk-estimator {font-family: monospace;background-color: #f0f8ff;border: 1px dotted black;border-radius: 0.25em;box-sizing: border-box;margin-bottom: 0.5em;}#sk-container-id-2 div.sk-estimator:hover {background-color: #d4ebff;}#sk-container-id-2 div.sk-parallel-item::after {content: \"\";width: 100%;border-bottom: 1px solid gray;flex-grow: 1;}#sk-container-id-2 div.sk-label:hover label.sk-toggleable__label {background-color: #d4ebff;}#sk-container-id-2 div.sk-serial::before {content: \"\";position: absolute;border-left: 1px solid gray;box-sizing: border-box;top: 0;bottom: 0;left: 50%;z-index: 0;}#sk-container-id-2 div.sk-serial {display: flex;flex-direction: column;align-items: center;background-color: white;padding-right: 0.2em;padding-left: 0.2em;position: relative;}#sk-container-id-2 div.sk-item {position: relative;z-index: 1;}#sk-container-id-2 div.sk-parallel {display: flex;align-items: stretch;justify-content: center;background-color: white;position: relative;}#sk-container-id-2 div.sk-item::before, #sk-container-id-2 div.sk-parallel-item::before {content: \"\";position: absolute;border-left: 1px solid gray;box-sizing: border-box;top: 0;bottom: 0;left: 50%;z-index: -1;}#sk-container-id-2 div.sk-parallel-item {display: flex;flex-direction: column;z-index: 1;position: relative;background-color: white;}#sk-container-id-2 div.sk-parallel-item:first-child::after {align-self: flex-end;width: 50%;}#sk-container-id-2 div.sk-parallel-item:last-child::after {align-self: flex-start;width: 50%;}#sk-container-id-2 div.sk-parallel-item:only-child::after {width: 0;}#sk-container-id-2 div.sk-dashed-wrapped {border: 1px dashed gray;margin: 0 0.4em 0.5em 0.4em;box-sizing: border-box;padding-bottom: 0.4em;background-color: white;}#sk-container-id-2 div.sk-label label {font-family: monospace;font-weight: bold;display: inline-block;line-height: 1.2em;}#sk-container-id-2 div.sk-label-container {text-align: center;}#sk-container-id-2 div.sk-container {/* jupyter's `normalize.less` sets `[hidden] { display: none; }` but bootstrap.min.css set `[hidden] { display: none !important; }` so we also need the `!important` here to be able to override the default hidden behavior on the sphinx rendered scikit-learn.org. See: https://github.com/scikit-learn/scikit-learn/issues/21755 */display: inline-block !important;position: relative;}#sk-container-id-2 div.sk-text-repr-fallback {display: none;}</style><div id=\"sk-container-id-2\" class=\"sk-top-container\"><div class=\"sk-text-repr-fallback\"><pre>LinearRegression()</pre><b>In a Jupyter environment, please rerun this cell to show the HTML representation or trust the notebook. <br />On GitHub, the HTML representation is unable to render, please try loading this page with nbviewer.org.</b></div><div class=\"sk-container\" hidden><div class=\"sk-item\"><div class=\"sk-estimator sk-toggleable\"><input class=\"sk-toggleable__control sk-hidden--visually\" id=\"sk-estimator-id-2\" type=\"checkbox\" checked><label for=\"sk-estimator-id-2\" class=\"sk-toggleable__label sk-toggleable__label-arrow\">LinearRegression</label><div class=\"sk-toggleable__content\"><pre>LinearRegression()</pre></div></div></div></div></div>"
      ],
      "text/plain": [
       "LinearRegression()"
      ]
     },
     "execution_count": 20,
     "metadata": {},
     "output_type": "execute_result"
    }
   ],
   "source": [
    "lr = LinearRegression()\n",
    "lr.fit(X_train, y_train)"
   ]
  },
  {
   "cell_type": "markdown",
   "id": "d2a65cf7-3152-4d8a-b9cc-d92104a3ef62",
   "metadata": {},
   "source": [
    "Generamos las predicciones para los conjuntos de 'train' y 'test'"
   ]
  },
  {
   "cell_type": "code",
   "execution_count": 21,
   "id": "5e33acc5-c356-419e-bfa4-aefe785537cc",
   "metadata": {},
   "outputs": [],
   "source": [
    "pred_train = lr.predict(X_train)\n",
    "pred_test = lr.predict(X_test)"
   ]
  },
  {
   "cell_type": "markdown",
   "id": "9e421d80-e138-4633-9abb-64388ec06fb8",
   "metadata": {},
   "source": [
    "Calculamos el error Error Absoluto Medio Porcentual"
   ]
  },
  {
   "cell_type": "code",
   "execution_count": 22,
   "id": "be4c69ee-b6d8-4116-b409-b0399ab08502",
   "metadata": {},
   "outputs": [],
   "source": [
    "from sklearn.metrics import mean_absolute_error,mean_squared_error, mean_absolute_percentage_error"
   ]
  },
  {
   "cell_type": "code",
   "execution_count": 23,
   "id": "a4749cdc-b724-4f8e-8383-5b48875b7083",
   "metadata": {},
   "outputs": [
    {
     "name": "stdout",
     "output_type": "stream",
     "text": [
      "Error absoluto medio (MAPE):\n",
      "- En el conjunto de \"train\" las predicciones se desvían en un 0.01623.\n",
      "- En el conjunto de \"test\" las predicciones se desvían en un 0.01962.\n",
      "\n",
      "La diferencia de los errores en los conjuntos de \"train\" y \"test\" no es signiificativa.\n",
      "Entendemos que nuestro modelo se ajusta bien a los datos de entrenamiento y generaliza adecuadamente en los datos desconocidos.\n",
      "   \n"
     ]
    }
   ],
   "source": [
    "mape_train = mean_absolute_percentage_error(pred_train, y_train)\n",
    "mape_test = mean_absolute_percentage_error(pred_test, y_test)\n",
    "\n",
    "print(f'''Error absoluto medio (MAPE):\n",
    "- En el conjunto de \"train\" las predicciones se desvían en un {round(mape_train, 5)}.\n",
    "- En el conjunto de \"test\" las predicciones se desvían en un {round(mape_test, 5)}.\n",
    "''')\n",
    "\n",
    "if (mape_train < 0.1) & ( mape_test < 0.1):\n",
    "    print('''La diferencia de los errores en los conjuntos de \"train\" y \"test\" no es signiificativa.\n",
    "Entendemos que nuestro modelo se ajusta bien a los datos de entrenamiento y generaliza adecuadamente en los datos desconocidos.\n",
    "   ''')\n",
    "else:\n",
    "    print('Debemos revisar el modelo.')"
   ]
  },
  {
   "cell_type": "markdown",
   "id": "d742b11d-0b24-4d2e-bb76-9ca7e00ea49e",
   "metadata": {},
   "source": [
    "Comprobamos la distribución de los errores"
   ]
  },
  {
   "cell_type": "code",
   "execution_count": 24,
   "id": "c975838e-db0c-4d40-9764-4ea4d05a954b",
   "metadata": {},
   "outputs": [],
   "source": [
    "def plot_errores(dataset):\n",
    "  plt.subplots(figsize=(10,2))\n",
    "  plt.title('Distribución de errores')\n",
    "  plt.ylabel('Cantidad de predcciones')\n",
    "  plt.xlabel('Error')\n",
    "  plt.hist(dataset['error'], bins=np.linspace(-20, 20, num=41, dtype=int));\n",
    "  plt.show()"
   ]
  },
  {
   "cell_type": "markdown",
   "id": "7061021d-b241-4c0d-8124-2c73149edca8",
   "metadata": {},
   "source": [
    "- Train"
   ]
  },
  {
   "cell_type": "code",
   "execution_count": 25,
   "id": "038f1d92-93ca-42a4-bed1-36b242d3f17d",
   "metadata": {},
   "outputs": [
    {
     "data": {
      "image/png": "[encoded data removed]",
      "text/plain": [
       "<Figure size 1000x200 with 1 Axes>"
      ]
     },
     "metadata": {},
     "output_type": "display_data"
    }
   ],
   "source": [
    "X_train['error'] = y_train - pred_train\n",
    "plot_errores(X_train)"
   ]
  },
  {
   "cell_type": "markdown",
   "id": "3bf7d0cf-ab60-4dc1-a261-c064d46ecd5d",
   "metadata": {},
   "source": [
    "- Test"
   ]
  },
  {
   "cell_type": "code",
   "execution_count": 26,
   "id": "afc10c87-30aa-4991-b583-63e33f0e32b7",
   "metadata": {},
   "outputs": [
    {
     "data": {
      "image/png": "[encoded data removed]",
      "text/plain": [
       "<Figure size 1000x200 with 1 Axes>"
      ]
     },
     "metadata": {},
     "output_type": "display_data"
    }
   ],
   "source": [
    "X_test['error'] = y_test - pred_test\n",
    "plot_errores(X_test)"
   ]
  },
  {
   "cell_type": "markdown",
   "id": "9bb2bf8e-15ef-48c4-bff3-564d11f1857c",
   "metadata": {},
   "source": [
    "Comprobamos que los errores se distribuyen alrededor de 0, por lo que entendemos que la predicción del modelo es precisa."
   ]
  },
  {
   "cell_type": "markdown",
   "id": "e11ba605-6f6d-4ecc-8ca4-f3e94da1a31c",
   "metadata": {},
   "source": [
    "### Modelo SVM regressor:"
   ]
  },
  {
   "cell_type": "markdown",
   "id": "ead8a170-ea37-4b1d-a486-54a6437cf0f1",
   "metadata": {},
   "source": [
    "Definimos ahora el modelo SVR"
   ]
  },
  {
   "cell_type": "code",
   "execution_count": 27,
   "id": "b32906a2-1af9-436d-b4d1-5935c15cd253",
   "metadata": {},
   "outputs": [
    {
     "name": "stdout",
     "output_type": "stream",
     "text": [
      "Tamaño de los conjuntos de train y test:\n",
      "- Train de X (52, 6)\n",
      "- Test de X (14, 6)\n",
      "- Train de y (52,)\n",
      "- Test de y (14,)\n"
     ]
    }
   ],
   "source": [
    "X_train_svr, X_test_svr, y_train_svr, y_test_svr = train_test_split(X, y, test_size = 0.2 ,random_state = 16)\n",
    "print(f'''Tamaño de los conjuntos de train y test:\n",
    "- Train de X {X_train.shape}\n",
    "- Test de X {X_test.shape}\n",
    "- Train de y {y_train.shape}\n",
    "- Test de y {y_test.shape}''')"
   ]
  },
  {
   "cell_type": "code",
   "execution_count": 28,
   "id": "5979a3a0-1859-4840-b809-a71d868204fc",
   "metadata": {},
   "outputs": [],
   "source": [
    "from sklearn.svm import SVR"
   ]
  },
  {
   "cell_type": "code",
   "execution_count": 29,
   "id": "c6cae4f9-dac2-4197-8eac-e30a697bde97",
   "metadata": {},
   "outputs": [],
   "source": [
    "svr = SVR()"
   ]
  },
  {
   "cell_type": "markdown",
   "id": "c5ceaa49-b78c-42cb-8e7a-33eb07ad0f92",
   "metadata": {},
   "source": [
    "Entrenamos el modelo con las mismas variables"
   ]
  },
  {
   "cell_type": "code",
   "execution_count": 30,
   "id": "021ddf20-afc5-4041-afd8-fd968ae04959",
   "metadata": {},
   "outputs": [
    {
     "data": {
      "text/html": [
       "<style>#sk-container-id-3 {color: black;}#sk-container-id-3 pre{padding: 0;}#sk-container-id-3 div.sk-toggleable {background-color: white;}#sk-container-id-3 label.sk-toggleable__label {cursor: pointer;display: block;width: 100%;margin-bottom: 0;padding: 0.3em;box-sizing: border-box;text-align: center;}#sk-container-id-3 label.sk-toggleable__label-arrow:before {content: \"▸\";float: left;margin-right: 0.25em;color: #696969;}#sk-container-id-3 label.sk-toggleable__label-arrow:hover:before {color: black;}#sk-container-id-3 div.sk-estimator:hover label.sk-toggleable__label-arrow:before {color: black;}#sk-container-id-3 div.sk-toggleable__content {max-height: 0;max-width: 0;overflow: hidden;text-align: left;background-color: #f0f8ff;}#sk-container-id-3 div.sk-toggleable__content pre {margin: 0.2em;color: black;border-radius: 0.25em;background-color: #f0f8ff;}#sk-container-id-3 input.sk-toggleable__control:checked~div.sk-toggleable__content {max-height: 200px;max-width: 100%;overflow: auto;}#sk-container-id-3 input.sk-toggleable__control:checked~label.sk-toggleable__label-arrow:before {content: \"▾\";}#sk-container-id-3 div.sk-estimator input.sk-toggleable__control:checked~label.sk-toggleable__label {background-color: #d4ebff;}#sk-container-id-3 div.sk-label input.sk-toggleable__control:checked~label.sk-toggleable__label {background-color: #d4ebff;}#sk-container-id-3 input.sk-hidden--visually {border: 0;clip: rect(1px 1px 1px 1px);clip: rect(1px, 1px, 1px, 1px);height: 1px;margin: -1px;overflow: hidden;padding: 0;position: absolute;width: 1px;}#sk-container-id-3 div.sk-estimator {font-family: monospace;background-color: #f0f8ff;border: 1px dotted black;border-radius: 0.25em;box-sizing: border-box;margin-bottom: 0.5em;}#sk-container-id-3 div.sk-estimator:hover {background-color: #d4ebff;}#sk-container-id-3 div.sk-parallel-item::after {content: \"\";width: 100%;border-bottom: 1px solid gray;flex-grow: 1;}#sk-container-id-3 div.sk-label:hover label.sk-toggleable__label {background-color: #d4ebff;}#sk-container-id-3 div.sk-serial::before {content: \"\";position: absolute;border-left: 1px solid gray;box-sizing: border-box;top: 0;bottom: 0;left: 50%;z-index: 0;}#sk-container-id-3 div.sk-serial {display: flex;flex-direction: column;align-items: center;background-color: white;padding-right: 0.2em;padding-left: 0.2em;position: relative;}#sk-container-id-3 div.sk-item {position: relative;z-index: 1;}#sk-container-id-3 div.sk-parallel {display: flex;align-items: stretch;justify-content: center;background-color: white;position: relative;}#sk-container-id-3 div.sk-item::before, #sk-container-id-3 div.sk-parallel-item::before {content: \"\";position: absolute;border-left: 1px solid gray;box-sizing: border-box;top: 0;bottom: 0;left: 50%;z-index: -1;}#sk-container-id-3 div.sk-parallel-item {display: flex;flex-direction: column;z-index: 1;position: relative;background-color: white;}#sk-container-id-3 div.sk-parallel-item:first-child::after {align-self: flex-end;width: 50%;}#sk-container-id-3 div.sk-parallel-item:last-child::after {align-self: flex-start;width: 50%;}#sk-container-id-3 div.sk-parallel-item:only-child::after {width: 0;}#sk-container-id-3 div.sk-dashed-wrapped {border: 1px dashed gray;margin: 0 0.4em 0.5em 0.4em;box-sizing: border-box;padding-bottom: 0.4em;background-color: white;}#sk-container-id-3 div.sk-label label {font-family: monospace;font-weight: bold;display: inline-block;line-height: 1.2em;}#sk-container-id-3 div.sk-label-container {text-align: center;}#sk-container-id-3 div.sk-container {/* jupyter's `normalize.less` sets `[hidden] { display: none; }` but bootstrap.min.css set `[hidden] { display: none !important; }` so we also need the `!important` here to be able to override the default hidden behavior on the sphinx rendered scikit-learn.org. See: https://github.com/scikit-learn/scikit-learn/issues/21755 */display: inline-block !important;position: relative;}#sk-container-id-3 div.sk-text-repr-fallback {display: none;}</style><div id=\"sk-container-id-3\" class=\"sk-top-container\"><div class=\"sk-text-repr-fallback\"><pre>SVR()</pre><b>In a Jupyter environment, please rerun this cell to show the HTML representation or trust the notebook. <br />On GitHub, the HTML representation is unable to render, please try loading this page with nbviewer.org.</b></div><div class=\"sk-container\" hidden><div class=\"sk-item\"><div class=\"sk-estimator sk-toggleable\"><input class=\"sk-toggleable__control sk-hidden--visually\" id=\"sk-estimator-id-3\" type=\"checkbox\" checked><label for=\"sk-estimator-id-3\" class=\"sk-toggleable__label sk-toggleable__label-arrow\">SVR</label><div class=\"sk-toggleable__content\"><pre>SVR()</pre></div></div></div></div></div>"
      ],
      "text/plain": [
       "SVR()"
      ]
     },
     "execution_count": 30,
     "metadata": {},
     "output_type": "execute_result"
    }
   ],
   "source": [
    "svr.fit(X_train_svr, y_train_svr)"
   ]
  },
  {
   "cell_type": "markdown",
   "id": "8a634e15-d696-445a-a464-3923e6d790bc",
   "metadata": {},
   "source": [
    "Generamos las predicciones"
   ]
  },
  {
   "cell_type": "code",
   "execution_count": 31,
   "id": "06f66c95-903d-4958-890c-161ef74cd676",
   "metadata": {},
   "outputs": [],
   "source": [
    "pred_train_svr = svr.predict(X_train_svr)\n",
    "pred_test_svr = svr.predict(X_test_svr)"
   ]
  },
  {
   "cell_type": "code",
   "execution_count": 32,
   "id": "12df1681-641f-4e14-9aeb-1a4129b4dd1a",
   "metadata": {},
   "outputs": [
    {
     "name": "stdout",
     "output_type": "stream",
     "text": [
      "Error absoluto medio (MAPE) con aprendizaje automático:\n",
      "- En el conjunto de \"train\" las predicciones se desvían en un 0.01438.\n",
      "- En el conjunto de \"test\" las predicciones se desvían en un 0.01995.\n",
      "\n",
      "La diferencia de los errores en los conjuntos de \"train\" y \"test\" no es signiificativa.\n",
      "Entendemos que nuestro modelo se ajusta bien a los datos de entrenamiento y generaliza adecuadamente en los datos desconocidos.\n",
      "   \n"
     ]
    }
   ],
   "source": [
    "mape_train_svr = mean_absolute_percentage_error(pred_train_svr, y_train_svr)\n",
    "mape_test_svr = mean_absolute_percentage_error(pred_test_svr, y_test_svr)\n",
    "\n",
    "print(f'''Error absoluto medio (MAPE) con aprendizaje automático:\n",
    "- En el conjunto de \"train\" las predicciones se desvían en un {round(mape_train_svr, 5)}.\n",
    "- En el conjunto de \"test\" las predicciones se desvían en un {round(mape_test_svr, 5)}.\n",
    "''')\n",
    "\n",
    "if (mape_train_svr < 0.1) & ( mape_test_svr < 0.1):\n",
    "    print('''La diferencia de los errores en los conjuntos de \"train\" y \"test\" no es signiificativa.\n",
    "Entendemos que nuestro modelo se ajusta bien a los datos de entrenamiento y generaliza adecuadamente en los datos desconocidos.\n",
    "   ''')\n",
    "else:\n",
    "    print('Debemos revisar el modelo.')"
   ]
  },
  {
   "cell_type": "markdown",
   "id": "9edb2ff7-95d3-44f2-8184-f18dcc3d0e42",
   "metadata": {},
   "source": [
    "El conjunto entrenado con 'svr', aprendizaje automático, ha conseguido un resultado ligeramente peor sobre el conjunto de 'train' y un resultado ligeramente mejor sobre el conjunto de 'test'."
   ]
  },
  {
   "cell_type": "markdown",
   "id": "393f6bc4-9b1b-4351-861b-84231e64f3f0",
   "metadata": {},
   "source": [
    "Comprobamos la distribución de los errores"
   ]
  },
  {
   "cell_type": "markdown",
   "id": "a362e371-5119-40ba-8808-379fd5dc269d",
   "metadata": {},
   "source": [
    "- Train"
   ]
  },
  {
   "cell_type": "code",
   "execution_count": 33,
   "id": "46f5834c-586a-4410-88ac-4770b11aa7b3",
   "metadata": {},
   "outputs": [
    {
     "data": {
      "image/png": "[encoded data removed]",
      "text/plain": [
       "<Figure size 1000x200 with 1 Axes>"
      ]
     },
     "metadata": {},
     "output_type": "display_data"
    }
   ],
   "source": [
    "X_train_svr[\"error\"] = pred_train_svr - y_train_svr\n",
    "plot_errores(X_train_svr)"
   ]
  },
  {
   "cell_type": "markdown",
   "id": "c5dcc70f-cb01-4139-9e54-1b15e9602ea6",
   "metadata": {},
   "source": [
    "- Test"
   ]
  },
  {
   "cell_type": "code",
   "execution_count": 34,
   "id": "2beb42bc-2310-409c-a962-23c7bb64bdfe",
   "metadata": {},
   "outputs": [
    {
     "data": {
      "image/png": "[encoded data removed]",
      "text/plain": [
       "<Figure size 1000x200 with 1 Axes>"
      ]
     },
     "metadata": {},
     "output_type": "display_data"
    }
   ],
   "source": [
    "X_test_svr[\"error\"] = pred_test_svr - y_test_svr\n",
    "plot_errores(X_test_svr)"
   ]
  },
  {
   "cell_type": "markdown",
   "id": "87b35f51-3ba0-4117-b758-d80687b5099a",
   "metadata": {},
   "source": [
    "Nuevamente, comprobamos que los errores se distribuyen alrededor de 0, por lo que entendemos que la predicción del modelo es precisa."
   ]
  },
  {
   "cell_type": "markdown",
   "id": "9777bdc3-8eec-4b47-972c-c0f5f661ac1e",
   "metadata": {},
   "source": [
    "#### Modelo de red neuronal"
   ]
  },
  {
   "cell_type": "code",
   "execution_count": 35,
   "id": "7447df17-7f50-418d-862b-99a54e97b105",
   "metadata": {},
   "outputs": [],
   "source": [
    "X_train_neu, X_test_neu, y_train_neu, y_test_neu = train_test_split(X, y, test_size = 0.2 ,random_state = 16)"
   ]
  },
  {
   "cell_type": "markdown",
   "id": "eb281788-c50c-4e5d-a36d-9f3866c327c4",
   "metadata": {},
   "source": [
    "Estandarizamos los datos"
   ]
  },
  {
   "cell_type": "markdown",
   "id": "45c7a3de-ef99-436d-964a-6ee253a8b6a5",
   "metadata": {},
   "source": [
    "Comprobamos que al estandarizar las variables mejoramos en la desviación de la predicción en los datos de 'train' en un 3.46% y empeoramos en los resultados de de 'test' en un 0.015%.\n",
    "\n",
    "Son valores muy pequeñosque en 70 años afectaría a nuestras predicciones en 0.02 grados.\n",
    "\n",
    "Por este motivo, se muesrta el código para estandarizar la variable explicativa pero no se ejecutará en este código tal y como se puede comprobar a continuación."
   ]
  },
  {
   "cell_type": "code",
   "execution_count": 36,
   "id": "3b04580f-e129-489a-9c89-5718d37dcf3a",
   "metadata": {},
   "outputs": [],
   "source": [
    "from sklearn.preprocessing import StandardScaler\n",
    "std = StandardScaler()\n",
    "X_train_std = std.fit_transform(X_train_neu)\n",
    "X_test_std = std.transform(X_test_neu)"
   ]
  },
  {
   "cell_type": "markdown",
   "id": "3fbc475d-0af3-4488-8544-511e7c1edbae",
   "metadata": {},
   "source": [
    "Diseñamos una red neuronal con dos capas  ocultas"
   ]
  },
  {
   "cell_type": "code",
   "execution_count": 37,
   "id": "cf57e4dc-431b-41f9-b888-9be58acb21d7",
   "metadata": {},
   "outputs": [],
   "source": [
    "from sklearn.neural_network import MLPRegressor"
   ]
  },
  {
   "cell_type": "markdown",
   "id": "4bce0122-a6d9-455e-a043-a4b5e12b37f5",
   "metadata": {},
   "source": []
  },
  {
   "cell_type": "markdown",
   "id": "6790d992-4d56-45aa-a08f-06d77164fa71",
   "metadata": {},
   "source": [
    "#### Gridsearch"
   ]
  },
  {
   "cell_type": "code",
   "execution_count": 38,
   "id": "7697c3ab-d7a0-4e9f-8478-420fb11c1f21",
   "metadata": {},
   "outputs": [],
   "source": [
    "from sklearn.model_selection import GridSearchCV"
   ]
  },
  {
   "cell_type": "markdown",
   "id": "3282e867-d185-4378-94d6-31596eee9364",
   "metadata": {},
   "source": [
    "Vamos a probar a utilizar Gridsearch para obtener los parámetros que obtengan mejores resultados en nuestra red neuronal"
   ]
  },
  {
   "cell_type": "code",
   "execution_count": 39,
   "id": "cafa6bc1-eff8-41a4-ba39-67ed9987fa3c",
   "metadata": {
    "scrolled": true
   },
   "outputs": [],
   "source": [
    "param_grid = {\n",
    "    \"hidden_layer_sizes\": [[6, 3],\n",
    "                          [8, 4, 2],\n",
    "                          [8, 4, 1],\n",
    "                          [16, 8, 2],\n",
    "                          [16, 8, 1],\n",
    "                          [32, 16, 4],\n",
    "                          [30, 10, 1]],\n",
    "    \"activation\": [\"relu\"],\n",
    "    \"solver\": ['adam', 'sgd', 'lbfgs']\n",
    "}"
   ]
  },
  {
   "cell_type": "markdown",
   "id": "bf81d51e-177c-4094-a494-aedb158bfa5b",
   "metadata": {},
   "source": [
    "Para ejecutar el modelo de regresión con red neuronal vamos a generar pliegues. Vamos a dividir el conjunto de entrenamiento en subconjuntos y entrenar con todos menos un subconjunto (n - 1). Luego realizaremos la predicción con el subconjunto sobrante.\n",
    "\n",
    "Por el reducido tamaño de los datos propondremos dividir el conjunto de entrenamiento en pocos subconjunto de pliegues, por ejemplo 4.\n",
    "\n",
    "Indicamos el el parámetro 'verbose = 10' para observar todos los resultados de todas las iteraciones generadas en 'param_grid'"
   ]
  },
  {
   "cell_type": "code",
   "execution_count": 40,
   "id": "ed3c9f5f-2e7d-413a-b29b-a90ef2d581ef",
   "metadata": {},
   "outputs": [],
   "source": [
    "gridsearch = GridSearchCV(MLPRegressor(random_state = 16), \n",
    "                          param_grid, \n",
    "                          cv = 4, \n",
    "                          verbose=0\n",
    "                         )"
   ]
  },
  {
   "cell_type": "code",
   "execution_count": 41,
   "id": "6e9b9a8e-c44a-41aa-bb54-01ddff120806",
   "metadata": {
    "scrolled": true
   },
   "outputs": [
    {
     "name": "stderr",
     "output_type": "stream",
     "text": [
      "C:\\Users\\34610\\anaconda3\\Lib\\site-packages\\sklearn\\neural_network\\_multilayer_perceptron.py:691: ConvergenceWarning: Stochastic Optimizer: Maximum iterations (200) reached and the optimization hasn't converged yet.\n",
      "  warnings.warn(\n",
      "C:\\Users\\34610\\anaconda3\\Lib\\site-packages\\sklearn\\neural_network\\_multilayer_perceptron.py:691: ConvergenceWarning: Stochastic Optimizer: Maximum iterations (200) reached and the optimization hasn't converged yet.\n",
      "  warnings.warn(\n",
      "C:\\Users\\34610\\anaconda3\\Lib\\site-packages\\sklearn\\neural_network\\_multilayer_perceptron.py:691: ConvergenceWarning: Stochastic Optimizer: Maximum iterations (200) reached and the optimization hasn't converged yet.\n",
      "  warnings.warn(\n",
      "C:\\Users\\34610\\anaconda3\\Lib\\site-packages\\sklearn\\neural_network\\_multilayer_perceptron.py:691: ConvergenceWarning: Stochastic Optimizer: Maximum iterations (200) reached and the optimization hasn't converged yet.\n",
      "  warnings.warn(\n",
      "C:\\Users\\34610\\anaconda3\\Lib\\site-packages\\sklearn\\neural_network\\_multilayer_perceptron.py:691: ConvergenceWarning: Stochastic Optimizer: Maximum iterations (200) reached and the optimization hasn't converged yet.\n",
      "  warnings.warn(\n",
      "C:\\Users\\34610\\anaconda3\\Lib\\site-packages\\sklearn\\neural_network\\_multilayer_perceptron.py:691: ConvergenceWarning: Stochastic Optimizer: Maximum iterations (200) reached and the optimization hasn't converged yet.\n",
      "  warnings.warn(\n",
      "C:\\Users\\34610\\anaconda3\\Lib\\site-packages\\sklearn\\neural_network\\_multilayer_perceptron.py:691: ConvergenceWarning: Stochastic Optimizer: Maximum iterations (200) reached and the optimization hasn't converged yet.\n",
      "  warnings.warn(\n",
      "C:\\Users\\34610\\anaconda3\\Lib\\site-packages\\sklearn\\neural_network\\_multilayer_perceptron.py:691: ConvergenceWarning: Stochastic Optimizer: Maximum iterations (200) reached and the optimization hasn't converged yet.\n",
      "  warnings.warn(\n",
      "C:\\Users\\34610\\anaconda3\\Lib\\site-packages\\sklearn\\neural_network\\_multilayer_perceptron.py:691: ConvergenceWarning: Stochastic Optimizer: Maximum iterations (200) reached and the optimization hasn't converged yet.\n",
      "  warnings.warn(\n",
      "C:\\Users\\34610\\anaconda3\\Lib\\site-packages\\sklearn\\neural_network\\_multilayer_perceptron.py:691: ConvergenceWarning: Stochastic Optimizer: Maximum iterations (200) reached and the optimization hasn't converged yet.\n",
      "  warnings.warn(\n",
      "C:\\Users\\34610\\anaconda3\\Lib\\site-packages\\sklearn\\neural_network\\_multilayer_perceptron.py:691: ConvergenceWarning: Stochastic Optimizer: Maximum iterations (200) reached and the optimization hasn't converged yet.\n",
      "  warnings.warn(\n",
      "C:\\Users\\34610\\anaconda3\\Lib\\site-packages\\sklearn\\neural_network\\_multilayer_perceptron.py:691: ConvergenceWarning: Stochastic Optimizer: Maximum iterations (200) reached and the optimization hasn't converged yet.\n",
      "  warnings.warn(\n",
      "C:\\Users\\34610\\anaconda3\\Lib\\site-packages\\sklearn\\neural_network\\_multilayer_perceptron.py:691: ConvergenceWarning: Stochastic Optimizer: Maximum iterations (200) reached and the optimization hasn't converged yet.\n",
      "  warnings.warn(\n",
      "C:\\Users\\34610\\anaconda3\\Lib\\site-packages\\sklearn\\neural_network\\_multilayer_perceptron.py:691: ConvergenceWarning: Stochastic Optimizer: Maximum iterations (200) reached and the optimization hasn't converged yet.\n",
      "  warnings.warn(\n",
      "C:\\Users\\34610\\anaconda3\\Lib\\site-packages\\sklearn\\neural_network\\_multilayer_perceptron.py:691: ConvergenceWarning: Stochastic Optimizer: Maximum iterations (200) reached and the optimization hasn't converged yet.\n",
      "  warnings.warn(\n",
      "C:\\Users\\34610\\anaconda3\\Lib\\site-packages\\sklearn\\neural_network\\_multilayer_perceptron.py:691: ConvergenceWarning: Stochastic Optimizer: Maximum iterations (200) reached and the optimization hasn't converged yet.\n",
      "  warnings.warn(\n",
      "C:\\Users\\34610\\anaconda3\\Lib\\site-packages\\sklearn\\neural_network\\_multilayer_perceptron.py:691: ConvergenceWarning: Stochastic Optimizer: Maximum iterations (200) reached and the optimization hasn't converged yet.\n",
      "  warnings.warn(\n",
      "C:\\Users\\34610\\anaconda3\\Lib\\site-packages\\sklearn\\neural_network\\_multilayer_perceptron.py:691: ConvergenceWarning: Stochastic Optimizer: Maximum iterations (200) reached and the optimization hasn't converged yet.\n",
      "  warnings.warn(\n",
      "C:\\Users\\34610\\anaconda3\\Lib\\site-packages\\sklearn\\neural_network\\_multilayer_perceptron.py:691: ConvergenceWarning: Stochastic Optimizer: Maximum iterations (200) reached and the optimization hasn't converged yet.\n",
      "  warnings.warn(\n",
      "C:\\Users\\34610\\anaconda3\\Lib\\site-packages\\sklearn\\neural_network\\_multilayer_perceptron.py:691: ConvergenceWarning: Stochastic Optimizer: Maximum iterations (200) reached and the optimization hasn't converged yet.\n",
      "  warnings.warn(\n",
      "C:\\Users\\34610\\anaconda3\\Lib\\site-packages\\sklearn\\neural_network\\_multilayer_perceptron.py:691: ConvergenceWarning: Stochastic Optimizer: Maximum iterations (200) reached and the optimization hasn't converged yet.\n",
      "  warnings.warn(\n",
      "C:\\Users\\34610\\anaconda3\\Lib\\site-packages\\sklearn\\neural_network\\_multilayer_perceptron.py:691: ConvergenceWarning: Stochastic Optimizer: Maximum iterations (200) reached and the optimization hasn't converged yet.\n",
      "  warnings.warn(\n",
      "C:\\Users\\34610\\anaconda3\\Lib\\site-packages\\sklearn\\neural_network\\_multilayer_perceptron.py:691: ConvergenceWarning: Stochastic Optimizer: Maximum iterations (200) reached and the optimization hasn't converged yet.\n",
      "  warnings.warn(\n",
      "C:\\Users\\34610\\anaconda3\\Lib\\site-packages\\sklearn\\neural_network\\_multilayer_perceptron.py:691: ConvergenceWarning: Stochastic Optimizer: Maximum iterations (200) reached and the optimization hasn't converged yet.\n",
      "  warnings.warn(\n",
      "C:\\Users\\34610\\anaconda3\\Lib\\site-packages\\sklearn\\neural_network\\_multilayer_perceptron.py:691: ConvergenceWarning: Stochastic Optimizer: Maximum iterations (200) reached and the optimization hasn't converged yet.\n",
      "  warnings.warn(\n",
      "C:\\Users\\34610\\anaconda3\\Lib\\site-packages\\sklearn\\neural_network\\_multilayer_perceptron.py:691: ConvergenceWarning: Stochastic Optimizer: Maximum iterations (200) reached and the optimization hasn't converged yet.\n",
      "  warnings.warn(\n",
      "C:\\Users\\34610\\anaconda3\\Lib\\site-packages\\sklearn\\neural_network\\_multilayer_perceptron.py:691: ConvergenceWarning: Stochastic Optimizer: Maximum iterations (200) reached and the optimization hasn't converged yet.\n",
      "  warnings.warn(\n",
      "C:\\Users\\34610\\anaconda3\\Lib\\site-packages\\sklearn\\neural_network\\_multilayer_perceptron.py:691: ConvergenceWarning: Stochastic Optimizer: Maximum iterations (200) reached and the optimization hasn't converged yet.\n",
      "  warnings.warn(\n"
     ]
    },
    {
     "data": {
      "text/html": [
       "<style>#sk-container-id-4 {color: black;}#sk-container-id-4 pre{padding: 0;}#sk-container-id-4 div.sk-toggleable {background-color: white;}#sk-container-id-4 label.sk-toggleable__label {cursor: pointer;display: block;width: 100%;margin-bottom: 0;padding: 0.3em;box-sizing: border-box;text-align: center;}#sk-container-id-4 label.sk-toggleable__label-arrow:before {content: \"▸\";float: left;margin-right: 0.25em;color: #696969;}#sk-container-id-4 label.sk-toggleable__label-arrow:hover:before {color: black;}#sk-container-id-4 div.sk-estimator:hover label.sk-toggleable__label-arrow:before {color: black;}#sk-container-id-4 div.sk-toggleable__content {max-height: 0;max-width: 0;overflow: hidden;text-align: left;background-color: #f0f8ff;}#sk-container-id-4 div.sk-toggleable__content pre {margin: 0.2em;color: black;border-radius: 0.25em;background-color: #f0f8ff;}#sk-container-id-4 input.sk-toggleable__control:checked~div.sk-toggleable__content {max-height: 200px;max-width: 100%;overflow: auto;}#sk-container-id-4 input.sk-toggleable__control:checked~label.sk-toggleable__label-arrow:before {content: \"▾\";}#sk-container-id-4 div.sk-estimator input.sk-toggleable__control:checked~label.sk-toggleable__label {background-color: #d4ebff;}#sk-container-id-4 div.sk-label input.sk-toggleable__control:checked~label.sk-toggleable__label {background-color: #d4ebff;}#sk-container-id-4 input.sk-hidden--visually {border: 0;clip: rect(1px 1px 1px 1px);clip: rect(1px, 1px, 1px, 1px);height: 1px;margin: -1px;overflow: hidden;padding: 0;position: absolute;width: 1px;}#sk-container-id-4 div.sk-estimator {font-family: monospace;background-color: #f0f8ff;border: 1px dotted black;border-radius: 0.25em;box-sizing: border-box;margin-bottom: 0.5em;}#sk-container-id-4 div.sk-estimator:hover {background-color: #d4ebff;}#sk-container-id-4 div.sk-parallel-item::after {content: \"\";width: 100%;border-bottom: 1px solid gray;flex-grow: 1;}#sk-container-id-4 div.sk-label:hover label.sk-toggleable__label {background-color: #d4ebff;}#sk-container-id-4 div.sk-serial::before {content: \"\";position: absolute;border-left: 1px solid gray;box-sizing: border-box;top: 0;bottom: 0;left: 50%;z-index: 0;}#sk-container-id-4 div.sk-serial {display: flex;flex-direction: column;align-items: center;background-color: white;padding-right: 0.2em;padding-left: 0.2em;position: relative;}#sk-container-id-4 div.sk-item {position: relative;z-index: 1;}#sk-container-id-4 div.sk-parallel {display: flex;align-items: stretch;justify-content: center;background-color: white;position: relative;}#sk-container-id-4 div.sk-item::before, #sk-container-id-4 div.sk-parallel-item::before {content: \"\";position: absolute;border-left: 1px solid gray;box-sizing: border-box;top: 0;bottom: 0;left: 50%;z-index: -1;}#sk-container-id-4 div.sk-parallel-item {display: flex;flex-direction: column;z-index: 1;position: relative;background-color: white;}#sk-container-id-4 div.sk-parallel-item:first-child::after {align-self: flex-end;width: 50%;}#sk-container-id-4 div.sk-parallel-item:last-child::after {align-self: flex-start;width: 50%;}#sk-container-id-4 div.sk-parallel-item:only-child::after {width: 0;}#sk-container-id-4 div.sk-dashed-wrapped {border: 1px dashed gray;margin: 0 0.4em 0.5em 0.4em;box-sizing: border-box;padding-bottom: 0.4em;background-color: white;}#sk-container-id-4 div.sk-label label {font-family: monospace;font-weight: bold;display: inline-block;line-height: 1.2em;}#sk-container-id-4 div.sk-label-container {text-align: center;}#sk-container-id-4 div.sk-container {/* jupyter's `normalize.less` sets `[hidden] { display: none; }` but bootstrap.min.css set `[hidden] { display: none !important; }` so we also need the `!important` here to be able to override the default hidden behavior on the sphinx rendered scikit-learn.org. See: https://github.com/scikit-learn/scikit-learn/issues/21755 */display: inline-block !important;position: relative;}#sk-container-id-4 div.sk-text-repr-fallback {display: none;}</style><div id=\"sk-container-id-4\" class=\"sk-top-container\"><div class=\"sk-text-repr-fallback\"><pre>GridSearchCV(cv=4, estimator=MLPRegressor(random_state=16),\n",
       "             param_grid={&#x27;activation&#x27;: [&#x27;relu&#x27;],\n",
       "                         &#x27;hidden_layer_sizes&#x27;: [[6, 3], [8, 4, 2], [8, 4, 1],\n",
       "                                                [16, 8, 2], [16, 8, 1],\n",
       "                                                [32, 16, 4], [30, 10, 1]],\n",
       "                         &#x27;solver&#x27;: [&#x27;adam&#x27;, &#x27;sgd&#x27;, &#x27;lbfgs&#x27;]})</pre><b>In a Jupyter environment, please rerun this cell to show the HTML representation or trust the notebook. <br />On GitHub, the HTML representation is unable to render, please try loading this page with nbviewer.org.</b></div><div class=\"sk-container\" hidden><div class=\"sk-item sk-dashed-wrapped\"><div class=\"sk-label-container\"><div class=\"sk-label sk-toggleable\"><input class=\"sk-toggleable__control sk-hidden--visually\" id=\"sk-estimator-id-4\" type=\"checkbox\" ><label for=\"sk-estimator-id-4\" class=\"sk-toggleable__label sk-toggleable__label-arrow\">GridSearchCV</label><div class=\"sk-toggleable__content\"><pre>GridSearchCV(cv=4, estimator=MLPRegressor(random_state=16),\n",
       "             param_grid={&#x27;activation&#x27;: [&#x27;relu&#x27;],\n",
       "                         &#x27;hidden_layer_sizes&#x27;: [[6, 3], [8, 4, 2], [8, 4, 1],\n",
       "                                                [16, 8, 2], [16, 8, 1],\n",
       "                                                [32, 16, 4], [30, 10, 1]],\n",
       "                         &#x27;solver&#x27;: [&#x27;adam&#x27;, &#x27;sgd&#x27;, &#x27;lbfgs&#x27;]})</pre></div></div></div><div class=\"sk-parallel\"><div class=\"sk-parallel-item\"><div class=\"sk-item\"><div class=\"sk-label-container\"><div class=\"sk-label sk-toggleable\"><input class=\"sk-toggleable__control sk-hidden--visually\" id=\"sk-estimator-id-5\" type=\"checkbox\" ><label for=\"sk-estimator-id-5\" class=\"sk-toggleable__label sk-toggleable__label-arrow\">estimator: MLPRegressor</label><div class=\"sk-toggleable__content\"><pre>MLPRegressor(random_state=16)</pre></div></div></div><div class=\"sk-serial\"><div class=\"sk-item\"><div class=\"sk-estimator sk-toggleable\"><input class=\"sk-toggleable__control sk-hidden--visually\" id=\"sk-estimator-id-6\" type=\"checkbox\" ><label for=\"sk-estimator-id-6\" class=\"sk-toggleable__label sk-toggleable__label-arrow\">MLPRegressor</label><div class=\"sk-toggleable__content\"><pre>MLPRegressor(random_state=16)</pre></div></div></div></div></div></div></div></div></div></div>"
      ],
      "text/plain": [
       "GridSearchCV(cv=4, estimator=MLPRegressor(random_state=16),\n",
       "             param_grid={'activation': ['relu'],\n",
       "                         'hidden_layer_sizes': [[6, 3], [8, 4, 2], [8, 4, 1],\n",
       "                                                [16, 8, 2], [16, 8, 1],\n",
       "                                                [32, 16, 4], [30, 10, 1]],\n",
       "                         'solver': ['adam', 'sgd', 'lbfgs']})"
      ]
     },
     "execution_count": 41,
     "metadata": {},
     "output_type": "execute_result"
    }
   ],
   "source": [
    "# Entrenamiento del modelo\n",
    "gridsearch.fit(X_train_neu, y_train_neu)"
   ]
  },
  {
   "cell_type": "code",
   "execution_count": 42,
   "id": "91374843-2c72-4d26-b91f-fe122856fa9d",
   "metadata": {},
   "outputs": [
    {
     "data": {
      "text/html": [
       "<style>#sk-container-id-5 {color: black;}#sk-container-id-5 pre{padding: 0;}#sk-container-id-5 div.sk-toggleable {background-color: white;}#sk-container-id-5 label.sk-toggleable__label {cursor: pointer;display: block;width: 100%;margin-bottom: 0;padding: 0.3em;box-sizing: border-box;text-align: center;}#sk-container-id-5 label.sk-toggleable__label-arrow:before {content: \"▸\";float: left;margin-right: 0.25em;color: #696969;}#sk-container-id-5 label.sk-toggleable__label-arrow:hover:before {color: black;}#sk-container-id-5 div.sk-estimator:hover label.sk-toggleable__label-arrow:before {color: black;}#sk-container-id-5 div.sk-toggleable__content {max-height: 0;max-width: 0;overflow: hidden;text-align: left;background-color: #f0f8ff;}#sk-container-id-5 div.sk-toggleable__content pre {margin: 0.2em;color: black;border-radius: 0.25em;background-color: #f0f8ff;}#sk-container-id-5 input.sk-toggleable__control:checked~div.sk-toggleable__content {max-height: 200px;max-width: 100%;overflow: auto;}#sk-container-id-5 input.sk-toggleable__control:checked~label.sk-toggleable__label-arrow:before {content: \"▾\";}#sk-container-id-5 div.sk-estimator input.sk-toggleable__control:checked~label.sk-toggleable__label {background-color: #d4ebff;}#sk-container-id-5 div.sk-label input.sk-toggleable__control:checked~label.sk-toggleable__label {background-color: #d4ebff;}#sk-container-id-5 input.sk-hidden--visually {border: 0;clip: rect(1px 1px 1px 1px);clip: rect(1px, 1px, 1px, 1px);height: 1px;margin: -1px;overflow: hidden;padding: 0;position: absolute;width: 1px;}#sk-container-id-5 div.sk-estimator {font-family: monospace;background-color: #f0f8ff;border: 1px dotted black;border-radius: 0.25em;box-sizing: border-box;margin-bottom: 0.5em;}#sk-container-id-5 div.sk-estimator:hover {background-color: #d4ebff;}#sk-container-id-5 div.sk-parallel-item::after {content: \"\";width: 100%;border-bottom: 1px solid gray;flex-grow: 1;}#sk-container-id-5 div.sk-label:hover label.sk-toggleable__label {background-color: #d4ebff;}#sk-container-id-5 div.sk-serial::before {content: \"\";position: absolute;border-left: 1px solid gray;box-sizing: border-box;top: 0;bottom: 0;left: 50%;z-index: 0;}#sk-container-id-5 div.sk-serial {display: flex;flex-direction: column;align-items: center;background-color: white;padding-right: 0.2em;padding-left: 0.2em;position: relative;}#sk-container-id-5 div.sk-item {position: relative;z-index: 1;}#sk-container-id-5 div.sk-parallel {display: flex;align-items: stretch;justify-content: center;background-color: white;position: relative;}#sk-container-id-5 div.sk-item::before, #sk-container-id-5 div.sk-parallel-item::before {content: \"\";position: absolute;border-left: 1px solid gray;box-sizing: border-box;top: 0;bottom: 0;left: 50%;z-index: -1;}#sk-container-id-5 div.sk-parallel-item {display: flex;flex-direction: column;z-index: 1;position: relative;background-color: white;}#sk-container-id-5 div.sk-parallel-item:first-child::after {align-self: flex-end;width: 50%;}#sk-container-id-5 div.sk-parallel-item:last-child::after {align-self: flex-start;width: 50%;}#sk-container-id-5 div.sk-parallel-item:only-child::after {width: 0;}#sk-container-id-5 div.sk-dashed-wrapped {border: 1px dashed gray;margin: 0 0.4em 0.5em 0.4em;box-sizing: border-box;padding-bottom: 0.4em;background-color: white;}#sk-container-id-5 div.sk-label label {font-family: monospace;font-weight: bold;display: inline-block;line-height: 1.2em;}#sk-container-id-5 div.sk-label-container {text-align: center;}#sk-container-id-5 div.sk-container {/* jupyter's `normalize.less` sets `[hidden] { display: none; }` but bootstrap.min.css set `[hidden] { display: none !important; }` so we also need the `!important` here to be able to override the default hidden behavior on the sphinx rendered scikit-learn.org. See: https://github.com/scikit-learn/scikit-learn/issues/21755 */display: inline-block !important;position: relative;}#sk-container-id-5 div.sk-text-repr-fallback {display: none;}</style><div id=\"sk-container-id-5\" class=\"sk-top-container\"><div class=\"sk-text-repr-fallback\"><pre>MLPRegressor(hidden_layer_sizes=[8, 4, 2], random_state=16, solver=&#x27;lbfgs&#x27;)</pre><b>In a Jupyter environment, please rerun this cell to show the HTML representation or trust the notebook. <br />On GitHub, the HTML representation is unable to render, please try loading this page with nbviewer.org.</b></div><div class=\"sk-container\" hidden><div class=\"sk-item\"><div class=\"sk-estimator sk-toggleable\"><input class=\"sk-toggleable__control sk-hidden--visually\" id=\"sk-estimator-id-7\" type=\"checkbox\" checked><label for=\"sk-estimator-id-7\" class=\"sk-toggleable__label sk-toggleable__label-arrow\">MLPRegressor</label><div class=\"sk-toggleable__content\"><pre>MLPRegressor(hidden_layer_sizes=[8, 4, 2], random_state=16, solver=&#x27;lbfgs&#x27;)</pre></div></div></div></div></div>"
      ],
      "text/plain": [
       "MLPRegressor(hidden_layer_sizes=[8, 4, 2], random_state=16, solver='lbfgs')"
      ]
     },
     "execution_count": 42,
     "metadata": {},
     "output_type": "execute_result"
    }
   ],
   "source": [
    "# Obtenermos el mejor modelo encontrado y lo guardamos\n",
    "modelo = gridsearch.best_estimator_\n",
    "modelo"
   ]
  },
  {
   "cell_type": "code",
   "execution_count": 43,
   "id": "a413efc9-47c8-4e17-b410-74f331c22186",
   "metadata": {},
   "outputs": [],
   "source": [
    "train_pred_neu = gridsearch.best_estimator_.predict(X_train_neu)\n",
    "test_pred_neu = gridsearch.best_estimator_.predict(X_test_neu)"
   ]
  },
  {
   "cell_type": "code",
   "execution_count": 44,
   "id": "6846fcf0-d6b4-40be-b30e-51df15acc480",
   "metadata": {},
   "outputs": [
    {
     "name": "stdout",
     "output_type": "stream",
     "text": [
      "Error absoluto medio (MAPE) con una red neuronal:\n",
      "- En el conjunto de \"train\" las predicciones se desvían en un 0.01784.\n",
      "- En el conjunto de \"test\" las predicciones se desvían en un 0.01985.\n",
      "\n",
      "La diferencia de los errores en los conjuntos de \"train\" y \"test\" no es signiificativa.\n",
      "Entendemos que nuestro modelo se ajusta bien a los datos de entrenamiento y generaliza adecuadamente en los datos desconocidos.\n",
      "   \n"
     ]
    }
   ],
   "source": [
    "mape_train_neu = mean_absolute_percentage_error(train_pred_neu, y_train_svr)\n",
    "mape_test_neu = mean_absolute_percentage_error(test_pred_neu, y_test_svr)\n",
    "\n",
    "print(f'''Error absoluto medio (MAPE) con una red neuronal:\n",
    "- En el conjunto de \"train\" las predicciones se desvían en un {round(mape_train_neu, 5)}.\n",
    "- En el conjunto de \"test\" las predicciones se desvían en un {round(mape_test_neu, 5)}.\n",
    "''')\n",
    "\n",
    "if (mape_train_neu < 0.1) & ( mape_test_neu < 0.1):\n",
    "    print('''La diferencia de los errores en los conjuntos de \"train\" y \"test\" no es signiificativa.\n",
    "Entendemos que nuestro modelo se ajusta bien a los datos de entrenamiento y generaliza adecuadamente en los datos desconocidos.\n",
    "   ''')\n",
    "else:\n",
    "    print('Debemos revisar el modelo.')"
   ]
  },
  {
   "cell_type": "markdown",
   "id": "a11266f7-95c4-418c-bb78-4ab3fb2fc451",
   "metadata": {},
   "source": [
    "Cuando generábamos la red neuronal de fomra manual:\n",
    "\n",
    "El modelo no acaba de converger con el algoritmo de optimización **'adam'**, por ello probamos uno más simplificado como el **'sgd'**.\n",
    "\n",
    "Pero al final obtenemos los mejores resultados con el modelo **'lbfgs'**. Estro puede ser por el tamaño de nuestra muestra o por utilizar un método de aproximación para optimizar el modelo en lugar de el descenso por gradiente.\n",
    "\n",
    "Cabe mencionar que el modelo **'lbfgs'** es el único modelo que no necesita aumentar el número máximo de iteraciones para converger."
   ]
  },
  {
   "cell_type": "code",
   "execution_count": 45,
   "id": "3854f879-8bdf-4649-b6bb-fd71b40fccac",
   "metadata": {},
   "outputs": [
    {
     "name": "stdout",
     "output_type": "stream",
     "text": [
      "\n",
      "Error absoluto medio (MAPE) SIN APRENDIZAJE AUTOMÁTICO:\n",
      "- En el conjunto de \"train\" las predicciones se desvían en un 0.01623.\n",
      "- En el conjunto de \"test\" las predicciones se desvían en un 0.01962.\n",
      "\n",
      "_.-._.-._.-._.-._.-._.-._.-._.-._.-._.-._.-._.-._.-._.-._.-._.-._.-._.-._.-._.-.\n",
      "\n",
      "Error absoluto medio (MAPE) CON APRENDIZAJE AUTOMÁTICO:\n",
      "- En el conjunto de \"train\" las predicciones se desvían en un 0.01438.\n",
      "- En el conjunto de \"test\" las predicciones se desvían en un 0.01995.\n",
      "\n",
      "_.-._.-._.-._.-._.-._.-._.-._.-._.-._.-._.-._.-._.-._.-._.-._.-._.-._.-._.-._.-.\n",
      "\n",
      "Error absoluto medio (MAPE) CON RED NEURONAL:\n",
      "- En el conjunto de \"train\" las predicciones se desvían en un 0.01784.\n",
      "- En el conjunto de \"test\" las predicciones se desvían en un 0.01985.\n",
      "\n"
     ]
    }
   ],
   "source": [
    "print(f'''\n",
    "Error absoluto medio (MAPE) SIN APRENDIZAJE AUTOMÁTICO:\n",
    "- En el conjunto de \"train\" las predicciones se desvían en un {round(mape_train, 5)}.\n",
    "- En el conjunto de \"test\" las predicciones se desvían en un {round(mape_test, 5)}.\n",
    "''')\n",
    "print('_.-.' * 20)\n",
    "print(f'''\n",
    "Error absoluto medio (MAPE) CON APRENDIZAJE AUTOMÁTICO:\n",
    "- En el conjunto de \"train\" las predicciones se desvían en un {round(mape_train_svr, 5)}.\n",
    "- En el conjunto de \"test\" las predicciones se desvían en un {round(mape_test_svr, 5)}.\n",
    "''')\n",
    "print('_.-.' * 20)\n",
    "print(f'''\n",
    "Error absoluto medio (MAPE) CON RED NEURONAL:\n",
    "- En el conjunto de \"train\" las predicciones se desvían en un {round(mape_train_neu, 5)}.\n",
    "- En el conjunto de \"test\" las predicciones se desvían en un {round(mape_test_neu, 5)}.\n",
    "''')"
   ]
  },
  {
   "cell_type": "markdown",
   "id": "360d3861-b6b9-46b0-a7b9-6c2010a84556",
   "metadata": {},
   "source": [
    "Después de enrtenar nuestro modelo con los modelos de aprendizaje sin automatizar, aprendizaje automático y redes neuronales, comprobamos que todos los modelos funcionan muy bien con nuestros datos. Aunque si hubiera que "
   ]
  },
  {
   "cell_type": "code",
   "execution_count": 46,
   "id": "94d46b9d-7273-4a34-bc59-f9f793257336",
   "metadata": {},
   "outputs": [],
   "source": [
    "# Cargamos el DataFrame que guarda la predicción del CO2.\n",
    "co_f = pd.read_csv('C:/Users/34610/Desktop/TFM/CO2/co_future.csv')"
   ]
  },
  {
   "cell_type": "code",
   "execution_count": 47,
   "id": "181121c9-ab39-4518-9142-6b4a4b9915e4",
   "metadata": {},
   "outputs": [],
   "source": [
    "# Pasamos la columna 'fecha' a formato fecha\n",
    "co_f['fecha'] = pd.to_datetime(co_f['fecha'])\n",
    "\n",
    "# Seleccionamos la columna 'fecha' como índice\n",
    "co_f = co_f.set_index('fecha', drop = True)\n",
    "\n",
    "# Cambiamos la temporalidad de los datos a tipo anual\n",
    "co_f = co_f.resample('A').mean()"
   ]
  },
  {
   "cell_type": "code",
   "execution_count": 48,
   "id": "8afec539-69f1-4789-86f4-38a4034f6b64",
   "metadata": {},
   "outputs": [
    {
     "name": "stderr",
     "output_type": "stream",
     "text": [
      "C:\\Users\\34610\\anaconda3\\Lib\\site-packages\\sklearn\\base.py:464: UserWarning: X does not have valid feature names, but MLPRegressor was fitted with feature names\n",
      "  warnings.warn(\n"
     ]
    }
   ],
   "source": [
    "# Asumiendo que co_f contiene solo la columna de CO2 para los años futuros\n",
    "X_futuro = co_f[['co2']].values  # Asegúrate de que 'co2' es el nombre correcto de la columna\n",
    "\n",
    "# Utilizar el mejor modelo del grid search para hacer predicciones\n",
    "mejor_modelo = gridsearch.best_estimator_\n",
    "predicciones_futuras = mejor_modelo.predict(X_futuro)\n",
    "\n",
    "# Crear un DataFrame para las predicciones\n",
    "temed_neu_f = pd.DataFrame({\n",
    "    'fecha': co_f.index,\n",
    "    'neu_tmed': predicciones_futuras\n",
    "})"
   ]
  },
  {
   "cell_type": "markdown",
   "id": "87ddc99a-dc26-4a32-accc-b3b8f36bbd37",
   "metadata": {},
   "source": [
    "Importamos el fichero con las predicciones para la temperatura media del modelo de regrsión lineal simple para realizar la comparación de los resultados en 'tmed'."
   ]
  },
  {
   "cell_type": "code",
   "execution_count": 49,
   "id": "9ef258de-0ff8-45e9-bf23-b0b95021b7c0",
   "metadata": {},
   "outputs": [],
   "source": [
    "# Importamos resultados de la regresión lineal simple\n",
    "tmed_f = pd.read_csv('escenarios_futuros/valencia_tmed_future.csv')\n",
    "\n",
    "# Pasamos a formato fecha la columna 'fecha'\n",
    "temed_neu_f['fecha'] = pd.to_datetime(temed_neu_f['fecha'])\n",
    "tmed_f['fecha'] = pd.to_datetime(tmed_f['fecha'])\n",
    "\n",
    "# Unimos los DataFrames por la columna 'fecha'\n",
    "temed_neu_vs_rgl = temed_neu_f.join(tmed_f['tmed'])\n",
    "\n",
    "# Seleccionamos la columna 'fecha' como índice\n",
    "temed_neu_vs_rgl = temed_neu_vs_rgl.set_index('fecha', drop = True)"
   ]
  },
  {
   "cell_type": "code",
   "execution_count": 50,
   "id": "42d976b5-af23-4e9d-9aa5-e24a87311d42",
   "metadata": {},
   "outputs": [],
   "source": [
    "# Generamos una columna que muestre la diferencia de la predicción\n",
    "temed_neu_vs_rgl['diff'] = temed_neu_vs_rgl['neu_tmed'] - temed_neu_vs_rgl['tmed']"
   ]
  },
  {
   "cell_type": "markdown",
   "id": "b9b4fee5-25f3-4ad6-ac6e-d698c3b00e44",
   "metadata": {},
   "source": [
    "Comprobamos en una muestra aleatoria por cuánto difieren ambas predicciones"
   ]
  },
  {
   "cell_type": "code",
   "execution_count": 51,
   "id": "211c082b-4f75-4551-a716-e9fd11cc3b38",
   "metadata": {},
   "outputs": [
    {
     "data": {
      "text/html": [
       "<div>\n",
       "<style scoped>\n",
       "    .dataframe tbody tr th:only-of-type {\n",
       "        vertical-align: middle;\n",
       "    }\n",
       "\n",
       "    .dataframe tbody tr th {\n",
       "        vertical-align: top;\n",
       "    }\n",
       "\n",
       "    .dataframe thead th {\n",
       "        text-align: right;\n",
       "    }\n",
       "</style>\n",
       "<table border=\"1\" class=\"dataframe\">\n",
       "  <thead>\n",
       "    <tr style=\"text-align: right;\">\n",
       "      <th></th>\n",
       "      <th>neu_tmed</th>\n",
       "      <th>tmed</th>\n",
       "      <th>diff</th>\n",
       "    </tr>\n",
       "    <tr>\n",
       "      <th>fecha</th>\n",
       "      <th></th>\n",
       "      <th></th>\n",
       "      <th></th>\n",
       "    </tr>\n",
       "  </thead>\n",
       "  <tbody>\n",
       "    <tr>\n",
       "      <th>2053-12-31</th>\n",
       "      <td>21.038444</td>\n",
       "      <td>20.901206</td>\n",
       "      <td>0.137238</td>\n",
       "    </tr>\n",
       "    <tr>\n",
       "      <th>2092-12-31</th>\n",
       "      <td>23.033464</td>\n",
       "      <td>22.809690</td>\n",
       "      <td>0.223774</td>\n",
       "    </tr>\n",
       "    <tr>\n",
       "      <th>2034-12-31</th>\n",
       "      <td>20.072559</td>\n",
       "      <td>19.977217</td>\n",
       "      <td>0.095342</td>\n",
       "    </tr>\n",
       "    <tr>\n",
       "      <th>2037-12-31</th>\n",
       "      <td>20.224325</td>\n",
       "      <td>20.122400</td>\n",
       "      <td>0.101925</td>\n",
       "    </tr>\n",
       "    <tr>\n",
       "      <th>2061-12-31</th>\n",
       "      <td>21.447084</td>\n",
       "      <td>21.292121</td>\n",
       "      <td>0.154963</td>\n",
       "    </tr>\n",
       "    <tr>\n",
       "      <th>2058-12-31</th>\n",
       "      <td>21.293774</td>\n",
       "      <td>21.145461</td>\n",
       "      <td>0.148313</td>\n",
       "    </tr>\n",
       "    <tr>\n",
       "      <th>2039-12-31</th>\n",
       "      <td>20.325710</td>\n",
       "      <td>20.219388</td>\n",
       "      <td>0.106322</td>\n",
       "    </tr>\n",
       "    <tr>\n",
       "      <th>2023-12-31</th>\n",
       "      <td>19.490213</td>\n",
       "      <td>19.420131</td>\n",
       "      <td>0.070082</td>\n",
       "    </tr>\n",
       "    <tr>\n",
       "      <th>2027-12-31</th>\n",
       "      <td>19.720408</td>\n",
       "      <td>19.640341</td>\n",
       "      <td>0.080067</td>\n",
       "    </tr>\n",
       "    <tr>\n",
       "      <th>2055-12-31</th>\n",
       "      <td>21.140544</td>\n",
       "      <td>20.998877</td>\n",
       "      <td>0.141667</td>\n",
       "    </tr>\n",
       "    <tr>\n",
       "      <th>2086-12-31</th>\n",
       "      <td>22.726268</td>\n",
       "      <td>22.515819</td>\n",
       "      <td>0.210449</td>\n",
       "    </tr>\n",
       "    <tr>\n",
       "      <th>2093-12-31</th>\n",
       "      <td>23.084666</td>\n",
       "      <td>22.858672</td>\n",
       "      <td>0.225995</td>\n",
       "    </tr>\n",
       "    <tr>\n",
       "      <th>2057-12-31</th>\n",
       "      <td>21.242688</td>\n",
       "      <td>21.096591</td>\n",
       "      <td>0.146097</td>\n",
       "    </tr>\n",
       "    <tr>\n",
       "      <th>2088-12-31</th>\n",
       "      <td>22.828663</td>\n",
       "      <td>22.613772</td>\n",
       "      <td>0.214890</td>\n",
       "    </tr>\n",
       "    <tr>\n",
       "      <th>2044-12-31</th>\n",
       "      <td>20.579749</td>\n",
       "      <td>20.462408</td>\n",
       "      <td>0.117342</td>\n",
       "    </tr>\n",
       "    <tr>\n",
       "      <th>2054-12-31</th>\n",
       "      <td>21.089488</td>\n",
       "      <td>20.950036</td>\n",
       "      <td>0.139452</td>\n",
       "    </tr>\n",
       "    <tr>\n",
       "      <th>2051-12-31</th>\n",
       "      <td>20.936395</td>\n",
       "      <td>20.803583</td>\n",
       "      <td>0.132811</td>\n",
       "    </tr>\n",
       "    <tr>\n",
       "      <th>2089-12-31</th>\n",
       "      <td>22.879862</td>\n",
       "      <td>22.662751</td>\n",
       "      <td>0.217111</td>\n",
       "    </tr>\n",
       "    <tr>\n",
       "      <th>2098-12-31</th>\n",
       "      <td>23.340688</td>\n",
       "      <td>23.103588</td>\n",
       "      <td>0.237100</td>\n",
       "    </tr>\n",
       "    <tr>\n",
       "      <th>2047-12-31</th>\n",
       "      <td>20.732482</td>\n",
       "      <td>20.608515</td>\n",
       "      <td>0.123966</td>\n",
       "    </tr>\n",
       "  </tbody>\n",
       "</table>\n",
       "</div>"
      ],
      "text/plain": [
       "             neu_tmed       tmed      diff\n",
       "fecha                                     \n",
       "2053-12-31  21.038444  20.901206  0.137238\n",
       "2092-12-31  23.033464  22.809690  0.223774\n",
       "2034-12-31  20.072559  19.977217  0.095342\n",
       "2037-12-31  20.224325  20.122400  0.101925\n",
       "2061-12-31  21.447084  21.292121  0.154963\n",
       "2058-12-31  21.293774  21.145461  0.148313\n",
       "2039-12-31  20.325710  20.219388  0.106322\n",
       "2023-12-31  19.490213  19.420131  0.070082\n",
       "2027-12-31  19.720408  19.640341  0.080067\n",
       "2055-12-31  21.140544  20.998877  0.141667\n",
       "2086-12-31  22.726268  22.515819  0.210449\n",
       "2093-12-31  23.084666  22.858672  0.225995\n",
       "2057-12-31  21.242688  21.096591  0.146097\n",
       "2088-12-31  22.828663  22.613772  0.214890\n",
       "2044-12-31  20.579749  20.462408  0.117342\n",
       "2054-12-31  21.089488  20.950036  0.139452\n",
       "2051-12-31  20.936395  20.803583  0.132811\n",
       "2089-12-31  22.879862  22.662751  0.217111\n",
       "2098-12-31  23.340688  23.103588  0.237100\n",
       "2047-12-31  20.732482  20.608515  0.123966"
      ]
     },
     "execution_count": 51,
     "metadata": {},
     "output_type": "execute_result"
    }
   ],
   "source": [
    "# Muestra aleatoria\n",
    "temed_neu_vs_rgl.sample(20)"
   ]
  },
  {
   "cell_type": "markdown",
   "id": "cb924380-ca29-4f9f-897a-10f109389bd0",
   "metadata": {},
   "source": [
    "LLegamos a la conclusión de que, como las predicciones se basan en la evolución del CO2 y el CO2 aumenta de forma constante en el tiempo, observamos que coinciden los datos de la predicción con un modelo sencillo y otro complejo."
   ]
  }
 ],
 "metadata": {
  "kernelspec": {
   "display_name": "Python 3 (ipykernel)",
   "language": "python",
   "name": "python3"
  },
  "language_info": {
   "codemirror_mode": {
    "name": "ipython",
    "version": 3
   },
   "file_extension": ".py",
   "mimetype": "text/x-python",
   "name": "python",
   "nbconvert_exporter": "python",
   "pygments_lexer": "ipython3",
   "version": "3.11.5"
  }
 },
 "nbformat": 4,
 "nbformat_minor": 5
}
